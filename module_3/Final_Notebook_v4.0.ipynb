{
 "cells": [
  {
   "cell_type": "code",
   "execution_count": 1,
   "metadata": {},
   "outputs": [],
   "source": [
    "import numpy as np # linear algebra\n",
    "import pandas as pd # data processing, CSV file I/O (e.g. pd.read_csv)\n",
    "\n",
    "import matplotlib.pyplot as plt\n",
    "import seaborn as sns \n",
    "%matplotlib inline\n",
    "\n",
    "import re\n",
    "\n",
    "# Загружаем специальный удобный инструмент для разделения датасета:\n",
    "from sklearn.model_selection import train_test_split"
   ]
  },
  {
   "cell_type": "code",
   "execution_count": 2,
   "metadata": {},
   "outputs": [],
   "source": [
    "RANDOM_SEED = 42"
   ]
  },
  {
   "cell_type": "markdown",
   "metadata": {},
   "source": [
    "# DATA"
   ]
  },
  {
   "cell_type": "code",
   "execution_count": 3,
   "metadata": {},
   "outputs": [],
   "source": [
    "df_train = pd.read_csv('main_task.xls') # данные, необходимые для обучения модели\n",
    "df_test = pd.read_csv('kaggle_task.csv') # сведения о ресторанах, для которых необходимо предсказать рейтинг\n",
    "sample_submission = pd.read_csv('sample_submission.csv') # образец оформления результата"
   ]
  },
  {
   "cell_type": "code",
   "execution_count": 4,
   "metadata": {},
   "outputs": [
    {
     "data": {
      "text/html": [
       "<div>\n",
       "<style scoped>\n",
       "    .dataframe tbody tr th:only-of-type {\n",
       "        vertical-align: middle;\n",
       "    }\n",
       "\n",
       "    .dataframe tbody tr th {\n",
       "        vertical-align: top;\n",
       "    }\n",
       "\n",
       "    .dataframe thead th {\n",
       "        text-align: right;\n",
       "    }\n",
       "</style>\n",
       "<table border=\"1\" class=\"dataframe\">\n",
       "  <thead>\n",
       "    <tr style=\"text-align: right;\">\n",
       "      <th></th>\n",
       "      <th>Restaurant_id</th>\n",
       "      <th>City</th>\n",
       "      <th>Cuisine Style</th>\n",
       "      <th>Ranking</th>\n",
       "      <th>Rating</th>\n",
       "      <th>Price Range</th>\n",
       "      <th>Number of Reviews</th>\n",
       "      <th>Reviews</th>\n",
       "      <th>URL_TA</th>\n",
       "      <th>ID_TA</th>\n",
       "    </tr>\n",
       "  </thead>\n",
       "  <tbody>\n",
       "    <tr>\n",
       "      <th>1048</th>\n",
       "      <td>id_3713</td>\n",
       "      <td>London</td>\n",
       "      <td>['Italian', 'Mediterranean', 'Vegetarian Frien...</td>\n",
       "      <td>3720.0</td>\n",
       "      <td>4.0</td>\n",
       "      <td>$$ - $$$</td>\n",
       "      <td>298.0</td>\n",
       "      <td>[['Meatballs to die for!!', 'Nice food. Slight...</td>\n",
       "      <td>/Restaurant_Review-g186338-d3508464-Reviews-Po...</td>\n",
       "      <td>d3508464</td>\n",
       "    </tr>\n",
       "    <tr>\n",
       "      <th>36985</th>\n",
       "      <td>id_1720</td>\n",
       "      <td>Stockholm</td>\n",
       "      <td>['European', 'Scandinavian']</td>\n",
       "      <td>1723.0</td>\n",
       "      <td>4.0</td>\n",
       "      <td>$$ - $$$</td>\n",
       "      <td>NaN</td>\n",
       "      <td>[[], []]</td>\n",
       "      <td>/Restaurant_Review-g189852-d12922691-Reviews-P...</td>\n",
       "      <td>d12922691</td>\n",
       "    </tr>\n",
       "    <tr>\n",
       "      <th>3237</th>\n",
       "      <td>id_5051</td>\n",
       "      <td>Milan</td>\n",
       "      <td>NaN</td>\n",
       "      <td>5054.0</td>\n",
       "      <td>4.0</td>\n",
       "      <td>NaN</td>\n",
       "      <td>5.0</td>\n",
       "      <td>[['This is my favourite bar'], ['12/14/2015']]</td>\n",
       "      <td>/Restaurant_Review-g187849-d8339797-Reviews-De...</td>\n",
       "      <td>d8339797</td>\n",
       "    </tr>\n",
       "    <tr>\n",
       "      <th>26973</th>\n",
       "      <td>id_4168</td>\n",
       "      <td>Madrid</td>\n",
       "      <td>NaN</td>\n",
       "      <td>4170.0</td>\n",
       "      <td>5.0</td>\n",
       "      <td>NaN</td>\n",
       "      <td>NaN</td>\n",
       "      <td>[[], []]</td>\n",
       "      <td>/Restaurant_Review-g187514-d990826-Reviews-Qui...</td>\n",
       "      <td>d990826</td>\n",
       "    </tr>\n",
       "    <tr>\n",
       "      <th>2546</th>\n",
       "      <td>id_524</td>\n",
       "      <td>Amsterdam</td>\n",
       "      <td>['European', 'Vegetarian Friendly', 'Vegan Opt...</td>\n",
       "      <td>525.0</td>\n",
       "      <td>4.5</td>\n",
       "      <td>$$ - $$$</td>\n",
       "      <td>137.0</td>\n",
       "      <td>[['A very special meal', 'Very unique and beau...</td>\n",
       "      <td>/Restaurant_Review-g188590-d753235-Reviews-Bet...</td>\n",
       "      <td>d753235</td>\n",
       "    </tr>\n",
       "  </tbody>\n",
       "</table>\n",
       "</div>"
      ],
      "text/plain": [
       "      Restaurant_id       City  \\\n",
       "1048        id_3713     London   \n",
       "36985       id_1720  Stockholm   \n",
       "3237        id_5051      Milan   \n",
       "26973       id_4168     Madrid   \n",
       "2546         id_524  Amsterdam   \n",
       "\n",
       "                                           Cuisine Style  Ranking  Rating  \\\n",
       "1048   ['Italian', 'Mediterranean', 'Vegetarian Frien...   3720.0     4.0   \n",
       "36985                       ['European', 'Scandinavian']   1723.0     4.0   \n",
       "3237                                                 NaN   5054.0     4.0   \n",
       "26973                                                NaN   4170.0     5.0   \n",
       "2546   ['European', 'Vegetarian Friendly', 'Vegan Opt...    525.0     4.5   \n",
       "\n",
       "      Price Range  Number of Reviews  \\\n",
       "1048     $$ - $$$              298.0   \n",
       "36985    $$ - $$$                NaN   \n",
       "3237          NaN                5.0   \n",
       "26973         NaN                NaN   \n",
       "2546     $$ - $$$              137.0   \n",
       "\n",
       "                                                 Reviews  \\\n",
       "1048   [['Meatballs to die for!!', 'Nice food. Slight...   \n",
       "36985                                           [[], []]   \n",
       "3237      [['This is my favourite bar'], ['12/14/2015']]   \n",
       "26973                                           [[], []]   \n",
       "2546   [['A very special meal', 'Very unique and beau...   \n",
       "\n",
       "                                                  URL_TA      ID_TA  \n",
       "1048   /Restaurant_Review-g186338-d3508464-Reviews-Po...   d3508464  \n",
       "36985  /Restaurant_Review-g189852-d12922691-Reviews-P...  d12922691  \n",
       "3237   /Restaurant_Review-g187849-d8339797-Reviews-De...   d8339797  \n",
       "26973  /Restaurant_Review-g187514-d990826-Reviews-Qui...    d990826  \n",
       "2546   /Restaurant_Review-g188590-d753235-Reviews-Bet...    d753235  "
      ]
     },
     "execution_count": 4,
     "metadata": {},
     "output_type": "execute_result"
    }
   ],
   "source": [
    "df_train.sample(5)"
   ]
  },
  {
   "cell_type": "markdown",
   "metadata": {},
   "source": [
    "Подробнее по признакам:\n",
    "* Restaurant_id - id компании (может быть представлена в разных городах, сеть ресторанов например)\n",
    "* City: Город \n",
    "* Cuisine Style: Кухня\n",
    "* Ranking: Ранг ресторана относительно других ресторанов в этом городе\n",
    "* Price Range: Цены в ресторане в 3 категориях\n",
    "* Number of Reviews: Количество отзывов\n",
    "* Reviews: 2 последних отзыва и даты этих отзывов\n",
    "* URL_TA: страница ресторана на 'www.tripadvisor.com' \n",
    "* ID_TA: ID ресторана в TripAdvisor\n",
    "* Rating: Рейтинг ресторана (целевая переменная)"
   ]
  },
  {
   "cell_type": "code",
   "execution_count": 5,
   "metadata": {},
   "outputs": [],
   "source": [
    "# ВАЖНО! дря корректной обработки признаков объединяем трейн и тест в один датасет\n",
    "df_train['sample'] = 1 # помечаем где у нас трейн\n",
    "df_test['sample'] = 0 # помечаем где у нас тест\n",
    "df_test['Rating'] = 0 # в тесте у нас нет значения Rating, мы его должны предсказать, по этому пока просто заполняем нулями\n",
    "\n",
    "data = df_test.append(df_train, sort=False).reset_index(drop=True) # объединяем\n",
    "\n",
    "data1 = data.copy() # на всякий случай создадим копию начального датасета"
   ]
  },
  {
   "cell_type": "code",
   "execution_count": 6,
   "metadata": {},
   "outputs": [
    {
     "name": "stdout",
     "output_type": "stream",
     "text": [
      "<class 'pandas.core.frame.DataFrame'>\n",
      "RangeIndex: 50000 entries, 0 to 49999\n",
      "Data columns (total 11 columns):\n",
      " #   Column             Non-Null Count  Dtype  \n",
      "---  ------             --------------  -----  \n",
      " 0   Restaurant_id      50000 non-null  object \n",
      " 1   City               50000 non-null  object \n",
      " 2   Cuisine Style      38410 non-null  object \n",
      " 3   Ranking            50000 non-null  float64\n",
      " 4   Price Range        32639 non-null  object \n",
      " 5   Number of Reviews  46800 non-null  float64\n",
      " 6   Reviews            49998 non-null  object \n",
      " 7   URL_TA             50000 non-null  object \n",
      " 8   ID_TA              50000 non-null  object \n",
      " 9   sample             50000 non-null  int64  \n",
      " 10  Rating             50000 non-null  float64\n",
      "dtypes: float64(3), int64(1), object(7)\n",
      "memory usage: 4.2+ MB\n"
     ]
    }
   ],
   "source": [
    "data.info()"
   ]
  },
  {
   "cell_type": "markdown",
   "metadata": {},
   "source": [
    "# Очистка и предобработка данных"
   ]
  },
  {
   "cell_type": "markdown",
   "metadata": {},
   "source": [
    "## 1. Обработка NAN \n",
    "У наличия пропусков могут быть разные причины, но пропуски нужно либо заполнить, либо исключить из набора полностью. Но с пропусками нужно быть внимательным, **даже отсутствие информации может быть важным признаком!**   \n",
    "По этому перед обработкой NAN лучше вынести информацию о наличии пропуска как отдельный признак "
   ]
  },
  {
   "cell_type": "code",
   "execution_count": 7,
   "metadata": {},
   "outputs": [],
   "source": [
    "data['Number_of_Reviews_isNAN'] = pd.isna(data['Number of Reviews']).astype('uint8')\n",
    "data['Cuisine Style_isNAN'] = pd.isna(data['Cuisine Style']).astype('uint8')\n",
    "data['Price Range_isNAN'] = pd.isna(data['Price Range']).astype('uint8')"
   ]
  },
  {
   "cell_type": "markdown",
   "metadata": {},
   "source": [
    "Чтобы понять, какими значениями заполнять пропущенные значения, посмотрим на распределение значений данного признака:"
   ]
  },
  {
   "cell_type": "markdown",
   "metadata": {},
   "source": [
    "### Number of Reviews"
   ]
  },
  {
   "cell_type": "code",
   "execution_count": 8,
   "metadata": {
    "scrolled": true
   },
   "outputs": [
    {
     "data": {
      "text/plain": [
       "count    46800.000000\n",
       "mean       124.471197\n",
       "std        294.114345\n",
       "min          2.000000\n",
       "25%          9.000000\n",
       "50%         33.000000\n",
       "75%        115.000000\n",
       "max       9660.000000\n",
       "Name: Number of Reviews, dtype: float64"
      ]
     },
     "execution_count": 8,
     "metadata": {},
     "output_type": "execute_result"
    }
   ],
   "source": [
    "data['Number of Reviews'].describe()"
   ]
  },
  {
   "cell_type": "code",
   "execution_count": 9,
   "metadata": {},
   "outputs": [
    {
     "data": {
      "text/plain": [
       "<matplotlib.axes._subplots.AxesSubplot at 0x20a9c946c48>"
      ]
     },
     "execution_count": 9,
     "metadata": {},
     "output_type": "execute_result"
    },
    {
     "data": {
      "image/png": "[encoded data removed]",
      "text/plain": [
       "<Figure size 432x288 with 1 Axes>"
      ]
     },
     "metadata": {
      "needs_background": "light"
     },
     "output_type": "display_data"
    }
   ],
   "source": [
    "data['Number of Reviews'].hist()"
   ]
  },
  {
   "cell_type": "code",
   "execution_count": 10,
   "metadata": {},
   "outputs": [
    {
     "data": {
      "text/plain": [
       "(-7.659000000000001, 98.58]    0.67548\n",
       "(98.58, 195.16]                0.10834\n",
       "(195.16, 291.74]               0.05020\n",
       "(291.74, 388.32]               0.02964\n",
       "(388.32, 484.9]                0.01792\n",
       "Name: Number of Reviews, dtype: float64"
      ]
     },
     "execution_count": 10,
     "metadata": {},
     "output_type": "execute_result"
    }
   ],
   "source": [
    "data['Number of Reviews'].value_counts(bins=100, normalize=True)[:5]"
   ]
  },
  {
   "cell_type": "markdown",
   "metadata": {},
   "source": [
    "Из чего следует, что 2/3 ресторанов имеют не более 100 отзывов. Пропущенные значения будем заполнять нулями - это будет говорить о том, что раз сведения об отзывах отсутствуют, значит их на данный момент нет:"
   ]
  },
  {
   "cell_type": "code",
   "execution_count": 11,
   "metadata": {},
   "outputs": [],
   "source": [
    "data['Number of Reviews'].fillna(0, inplace=True)"
   ]
  },
  {
   "cell_type": "markdown",
   "metadata": {},
   "source": [
    "### Price Range"
   ]
  },
  {
   "cell_type": "markdown",
   "metadata": {},
   "source": [
    "Посмотрим на признак Price Range - цены в ресторане:"
   ]
  },
  {
   "cell_type": "code",
   "execution_count": 12,
   "metadata": {},
   "outputs": [
    {
     "data": {
      "text/plain": [
       "array(['$$ - $$$', '$$$$', '$', nan], dtype=object)"
      ]
     },
     "execution_count": 12,
     "metadata": {},
     "output_type": "execute_result"
    }
   ],
   "source": [
    "data['Price Range'].unique()"
   ]
  },
  {
   "cell_type": "markdown",
   "metadata": {},
   "source": [
    "Переобозначим эти ценовые категории как 1, 2 и 3:"
   ]
  },
  {
   "cell_type": "code",
   "execution_count": 13,
   "metadata": {},
   "outputs": [],
   "source": [
    "price_range_dict = {'$': 1, '$$ - $$$': 2, '$$$$': 3}\n",
    "data['Price Range'] = data['Price Range'].replace(price_range_dict)"
   ]
  },
  {
   "cell_type": "markdown",
   "metadata": {},
   "source": [
    "Посмотрим теперь на распределение ценовых категорий в ресторанах:"
   ]
  },
  {
   "cell_type": "code",
   "execution_count": 14,
   "metadata": {},
   "outputs": [
    {
     "data": {
      "text/plain": [
       "count    32639.000000\n",
       "mean         1.815129\n",
       "std          0.509800\n",
       "min          1.000000\n",
       "25%          2.000000\n",
       "50%          2.000000\n",
       "75%          2.000000\n",
       "max          3.000000\n",
       "Name: Price Range, dtype: float64"
      ]
     },
     "execution_count": 14,
     "metadata": {},
     "output_type": "execute_result"
    }
   ],
   "source": [
    "data['Price Range'].describe()"
   ]
  },
  {
   "cell_type": "markdown",
   "metadata": {},
   "source": [
    "Заполним пропуски медианным значением - 2 ценовой категорией:"
   ]
  },
  {
   "cell_type": "code",
   "execution_count": 15,
   "metadata": {},
   "outputs": [],
   "source": [
    "data['Price Range'].fillna(data['Price Range'].median(), inplace=True)"
   ]
  },
  {
   "cell_type": "markdown",
   "metadata": {},
   "source": [
    "### Cuisine Style"
   ]
  },
  {
   "cell_type": "markdown",
   "metadata": {},
   "source": [
    "Признак Cuisinie Style (Кухня) представлен в виде списка кухонь для каждого ресторана. Создадим новый признак, куда запишем количество кухонь и посмотрим на то, сколько всего видов кухонь существует:"
   ]
  },
  {
   "cell_type": "code",
   "execution_count": 16,
   "metadata": {},
   "outputs": [
    {
     "data": {
      "text/plain": [
       "'Vegetarian Friendly'    14021\n",
       "'European'               12561\n",
       "'Mediterranean'           7820\n",
       "'Italian'                 7433\n",
       "'Vegan Options'           5684\n",
       "                         ...  \n",
       "'Polynesian'                 2\n",
       "'Salvadoran'                 1\n",
       "'Latvian'                    1\n",
       "'Burmese'                    1\n",
       "'Xinjiang'                   1\n",
       "Length: 125, dtype: int64"
      ]
     },
     "execution_count": 16,
     "metadata": {},
     "output_type": "execute_result"
    }
   ],
   "source": [
    "data['Number_of_cuisine'] = data['Cuisine Style'].apply(lambda x: len(str(x)[1:-1].split(', ')))\n",
    "\n",
    "cuisine_styles = data['Cuisine Style'].dropna().apply(lambda x: str(x)[1:-1].split(', ')).sum()\n",
    "\n",
    "pd.Series(cuisine_styles).value_counts()"
   ]
  },
  {
   "cell_type": "markdown",
   "metadata": {},
   "source": [
    "Всего 125 видов кухонь, самая популярная Vegetarian Friendly. Посмотрим на распределение количества кухонь в ресторанах:"
   ]
  },
  {
   "cell_type": "code",
   "execution_count": 17,
   "metadata": {},
   "outputs": [
    {
     "data": {
      "text/plain": [
       "1     20744\n",
       "2      7794\n",
       "3      6638\n",
       "4      5948\n",
       "5      4482\n",
       "6      2611\n",
       "7      1294\n",
       "8       363\n",
       "9        93\n",
       "10       26\n",
       "11        4\n",
       "21        1\n",
       "15        1\n",
       "13        1\n",
       "Name: Number_of_cuisine, dtype: int64"
      ]
     },
     "execution_count": 17,
     "metadata": {},
     "output_type": "execute_result"
    }
   ],
   "source": [
    "data['Number_of_cuisine'].value_counts()"
   ]
  },
  {
   "cell_type": "code",
   "execution_count": 18,
   "metadata": {},
   "outputs": [
    {
     "data": {
      "text/plain": [
       "count    50000.000000\n",
       "mean         2.625320\n",
       "std          1.824029\n",
       "min          1.000000\n",
       "25%          1.000000\n",
       "50%          2.000000\n",
       "75%          4.000000\n",
       "max         21.000000\n",
       "Name: Number_of_cuisine, dtype: float64"
      ]
     },
     "execution_count": 18,
     "metadata": {},
     "output_type": "execute_result"
    }
   ],
   "source": [
    "data['Number_of_cuisine'].describe()"
   ]
  },
  {
   "cell_type": "markdown",
   "metadata": {},
   "source": [
    "25% ресторанов представлены только одним видом кухни, 50% имеют не более 2 кухонь, 75% не более 4. Заполним пропуски медианным значением:"
   ]
  },
  {
   "cell_type": "code",
   "execution_count": 19,
   "metadata": {},
   "outputs": [],
   "source": [
    "data['Number_of_cuisine'].fillna(data['Number_of_cuisine'].median(), inplace=True)"
   ]
  },
  {
   "cell_type": "markdown",
   "metadata": {},
   "source": [
    "## 2. Предобработка данных"
   ]
  },
  {
   "cell_type": "markdown",
   "metadata": {},
   "source": [
    "### Reviews"
   ]
  },
  {
   "cell_type": "markdown",
   "metadata": {},
   "source": [
    "Посмотрим, как выглядят значения признака Reviews:"
   ]
  },
  {
   "cell_type": "code",
   "execution_count": 20,
   "metadata": {},
   "outputs": [
    {
     "data": {
      "text/plain": [
       "array([\"[['Good for breakfast and brunch', '3 € for each glass of water'], ['05/06/2017', '06/24/2017']]\"],\n",
       "      dtype=object)"
      ]
     },
     "execution_count": 20,
     "metadata": {},
     "output_type": "execute_result"
    }
   ],
   "source": [
    "data['Reviews'].sample().values"
   ]
  },
  {
   "cell_type": "markdown",
   "metadata": {},
   "source": [
    "Значения состоят из списка с двумя элементами: первый элемент - текст двух последних отзывов, второй элемент - даты этих отзывов. Нам могут пригодиться даты, извлечем их в отдельные признаки для дальнейшей работы с ними:"
   ]
  },
  {
   "cell_type": "code",
   "execution_count": 21,
   "metadata": {},
   "outputs": [
    {
     "data": {
      "text/plain": [
       "['12/05/2017', '10/29/2017']"
      ]
     },
     "execution_count": 21,
     "metadata": {},
     "output_type": "execute_result"
    }
   ],
   "source": [
    "pattern = re.compile('\\d\\d/\\d\\d/\\d\\d\\d\\d')\n",
    "\n",
    "pattern.findall(str(data.Reviews[1]))"
   ]
  },
  {
   "cell_type": "code",
   "execution_count": 22,
   "metadata": {},
   "outputs": [],
   "source": [
    "data['date_reviews'] = data['Reviews'].apply(lambda x: pattern.findall(str(x)))\n",
    "\n",
    "data['date1'] = pd.to_datetime(data['date_reviews'].apply(lambda x: x[0] if len(x)>0 else None))\n",
    "data['date2'] = pd.to_datetime(data['date_reviews'].apply(lambda x: x[1] if len(x)>1 else None))"
   ]
  },
  {
   "cell_type": "markdown",
   "metadata": {},
   "source": [
    "У некоторых ресторанов могли отсутствовать даты отзывов или присутствовал только один из двух отзывов:"
   ]
  },
  {
   "cell_type": "code",
   "execution_count": 23,
   "metadata": {},
   "outputs": [
    {
     "data": {
      "text/plain": [
       "date1     8114\n",
       "date2    13794\n",
       "dtype: int64"
      ]
     },
     "execution_count": 23,
     "metadata": {},
     "output_type": "execute_result"
    }
   ],
   "source": [
    "data[['date1','date2']].isna().sum()"
   ]
  },
  {
   "cell_type": "code",
   "execution_count": 24,
   "metadata": {},
   "outputs": [
    {
     "data": {
      "text/plain": [
       "8114"
      ]
     },
     "execution_count": 24,
     "metadata": {},
     "output_type": "execute_result"
    }
   ],
   "source": [
    "data[data['date1'].isna()]['date2'].isna().sum()"
   ]
  },
  {
   "cell_type": "code",
   "execution_count": 25,
   "metadata": {},
   "outputs": [
    {
     "data": {
      "text/plain": [
       "5680"
      ]
     },
     "execution_count": 25,
     "metadata": {},
     "output_type": "execute_result"
    }
   ],
   "source": [
    "data[~(data['date1'].isna())]['date2'].isna().sum()"
   ]
  },
  {
   "cell_type": "code",
   "execution_count": 26,
   "metadata": {},
   "outputs": [
    {
     "data": {
      "text/plain": [
       "0"
      ]
     },
     "execution_count": 26,
     "metadata": {},
     "output_type": "execute_result"
    }
   ],
   "source": [
    "data[~(data['date2'].isna())]['date1'].isna().sum()"
   ]
  },
  {
   "cell_type": "markdown",
   "metadata": {},
   "source": [
    "У 8114 ресторанов отсутсвуют даты как первого, так и второго последних отзывов. У 5680 ресторанов есть только один отзыв. "
   ]
  },
  {
   "cell_type": "markdown",
   "metadata": {},
   "source": [
    "### ID_TA"
   ]
  },
  {
   "cell_type": "markdown",
   "metadata": {},
   "source": [
    " В значенния данного признака содержится число - id ресторана в TripAdvisor. Извлечем его и перезапишем в этот же столбец:"
   ]
  },
  {
   "cell_type": "code",
   "execution_count": 27,
   "metadata": {},
   "outputs": [],
   "source": [
    "data['ID_TA'] = data['ID_TA'].apply(lambda x: int(x[1:]))"
   ]
  },
  {
   "cell_type": "markdown",
   "metadata": {},
   "source": [
    "Посмотрим теперь на наш датасет, что получилось:"
   ]
  },
  {
   "cell_type": "code",
   "execution_count": 28,
   "metadata": {},
   "outputs": [
    {
     "data": {
      "text/html": [
       "<div>\n",
       "<style scoped>\n",
       "    .dataframe tbody tr th:only-of-type {\n",
       "        vertical-align: middle;\n",
       "    }\n",
       "\n",
       "    .dataframe tbody tr th {\n",
       "        vertical-align: top;\n",
       "    }\n",
       "\n",
       "    .dataframe thead th {\n",
       "        text-align: right;\n",
       "    }\n",
       "</style>\n",
       "<table border=\"1\" class=\"dataframe\">\n",
       "  <thead>\n",
       "    <tr style=\"text-align: right;\">\n",
       "      <th></th>\n",
       "      <th>Restaurant_id</th>\n",
       "      <th>City</th>\n",
       "      <th>Cuisine Style</th>\n",
       "      <th>Ranking</th>\n",
       "      <th>Price Range</th>\n",
       "      <th>Number of Reviews</th>\n",
       "      <th>Reviews</th>\n",
       "      <th>URL_TA</th>\n",
       "      <th>ID_TA</th>\n",
       "      <th>sample</th>\n",
       "      <th>Rating</th>\n",
       "      <th>Number_of_Reviews_isNAN</th>\n",
       "      <th>Cuisine Style_isNAN</th>\n",
       "      <th>Price Range_isNAN</th>\n",
       "      <th>Number_of_cuisine</th>\n",
       "      <th>date_reviews</th>\n",
       "      <th>date1</th>\n",
       "      <th>date2</th>\n",
       "    </tr>\n",
       "  </thead>\n",
       "  <tbody>\n",
       "    <tr>\n",
       "      <th>44597</th>\n",
       "      <td>id_2187</td>\n",
       "      <td>Stockholm</td>\n",
       "      <td>NaN</td>\n",
       "      <td>2190.0</td>\n",
       "      <td>2.0</td>\n",
       "      <td>2.0</td>\n",
       "      <td>[[\"Wouldn't eat here again.\", 'A total rip off...</td>\n",
       "      <td>/Restaurant_Review-g189852-d13198094-Reviews-F...</td>\n",
       "      <td>13198094</td>\n",
       "      <td>1</td>\n",
       "      <td>3.0</td>\n",
       "      <td>0</td>\n",
       "      <td>1</td>\n",
       "      <td>1</td>\n",
       "      <td>1</td>\n",
       "      <td>[01/01/2018, 01/09/2018]</td>\n",
       "      <td>2018-01-01</td>\n",
       "      <td>2018-01-09</td>\n",
       "    </tr>\n",
       "    <tr>\n",
       "      <th>28088</th>\n",
       "      <td>id_3173</td>\n",
       "      <td>Milan</td>\n",
       "      <td>['Pizza']</td>\n",
       "      <td>3175.0</td>\n",
       "      <td>1.0</td>\n",
       "      <td>20.0</td>\n",
       "      <td>[['Perfect!', 'Try it out!'], ['05/24/2017', '...</td>\n",
       "      <td>/Restaurant_Review-g187849-d3479294-Reviews-A_...</td>\n",
       "      <td>3479294</td>\n",
       "      <td>1</td>\n",
       "      <td>4.5</td>\n",
       "      <td>0</td>\n",
       "      <td>0</td>\n",
       "      <td>0</td>\n",
       "      <td>1</td>\n",
       "      <td>[05/24/2017, 10/21/2015]</td>\n",
       "      <td>2017-05-24</td>\n",
       "      <td>2015-10-21</td>\n",
       "    </tr>\n",
       "    <tr>\n",
       "      <th>47758</th>\n",
       "      <td>id_1765</td>\n",
       "      <td>Stockholm</td>\n",
       "      <td>NaN</td>\n",
       "      <td>1768.0</td>\n",
       "      <td>2.0</td>\n",
       "      <td>26.0</td>\n",
       "      <td>[['Mansplaining waiter, expensive and delicio....</td>\n",
       "      <td>/Restaurant_Review-g189852-d1207089-Reviews-Wi...</td>\n",
       "      <td>1207089</td>\n",
       "      <td>1</td>\n",
       "      <td>4.0</td>\n",
       "      <td>0</td>\n",
       "      <td>1</td>\n",
       "      <td>1</td>\n",
       "      <td>1</td>\n",
       "      <td>[11/02/2016, 04/10/2016]</td>\n",
       "      <td>2016-11-02</td>\n",
       "      <td>2016-04-10</td>\n",
       "    </tr>\n",
       "    <tr>\n",
       "      <th>6733</th>\n",
       "      <td>id_6733</td>\n",
       "      <td>Paris</td>\n",
       "      <td>['Brew Pub', 'Bar', 'Pub', 'Wine Bar']</td>\n",
       "      <td>8060.0</td>\n",
       "      <td>2.0</td>\n",
       "      <td>2.0</td>\n",
       "      <td>[['What a great joint!', 'Super bar- great amb...</td>\n",
       "      <td>/Restaurant_Review-g187147-d11810616-Reviews-L...</td>\n",
       "      <td>11810616</td>\n",
       "      <td>0</td>\n",
       "      <td>0.0</td>\n",
       "      <td>0</td>\n",
       "      <td>0</td>\n",
       "      <td>0</td>\n",
       "      <td>4</td>\n",
       "      <td>[11/17/2017, 11/15/2016]</td>\n",
       "      <td>2017-11-17</td>\n",
       "      <td>2016-11-15</td>\n",
       "    </tr>\n",
       "    <tr>\n",
       "      <th>141</th>\n",
       "      <td>id_141</td>\n",
       "      <td>Barcelona</td>\n",
       "      <td>['Italian', 'Mediterranean', 'Spanish']</td>\n",
       "      <td>4180.0</td>\n",
       "      <td>2.0</td>\n",
       "      <td>0.0</td>\n",
       "      <td>[['Real treasure'], ['10/20/2017']]</td>\n",
       "      <td>/Restaurant_Review-g187497-d12530776-Reviews-C...</td>\n",
       "      <td>12530776</td>\n",
       "      <td>0</td>\n",
       "      <td>0.0</td>\n",
       "      <td>1</td>\n",
       "      <td>0</td>\n",
       "      <td>0</td>\n",
       "      <td>3</td>\n",
       "      <td>[10/20/2017]</td>\n",
       "      <td>2017-10-20</td>\n",
       "      <td>NaT</td>\n",
       "    </tr>\n",
       "  </tbody>\n",
       "</table>\n",
       "</div>"
      ],
      "text/plain": [
       "      Restaurant_id       City                            Cuisine Style  \\\n",
       "44597       id_2187  Stockholm                                      NaN   \n",
       "28088       id_3173      Milan                                ['Pizza']   \n",
       "47758       id_1765  Stockholm                                      NaN   \n",
       "6733        id_6733      Paris   ['Brew Pub', 'Bar', 'Pub', 'Wine Bar']   \n",
       "141          id_141  Barcelona  ['Italian', 'Mediterranean', 'Spanish']   \n",
       "\n",
       "       Ranking  Price Range  Number of Reviews  \\\n",
       "44597   2190.0          2.0                2.0   \n",
       "28088   3175.0          1.0               20.0   \n",
       "47758   1768.0          2.0               26.0   \n",
       "6733    8060.0          2.0                2.0   \n",
       "141     4180.0          2.0                0.0   \n",
       "\n",
       "                                                 Reviews  \\\n",
       "44597  [[\"Wouldn't eat here again.\", 'A total rip off...   \n",
       "28088  [['Perfect!', 'Try it out!'], ['05/24/2017', '...   \n",
       "47758  [['Mansplaining waiter, expensive and delicio....   \n",
       "6733   [['What a great joint!', 'Super bar- great amb...   \n",
       "141                  [['Real treasure'], ['10/20/2017']]   \n",
       "\n",
       "                                                  URL_TA     ID_TA  sample  \\\n",
       "44597  /Restaurant_Review-g189852-d13198094-Reviews-F...  13198094       1   \n",
       "28088  /Restaurant_Review-g187849-d3479294-Reviews-A_...   3479294       1   \n",
       "47758  /Restaurant_Review-g189852-d1207089-Reviews-Wi...   1207089       1   \n",
       "6733   /Restaurant_Review-g187147-d11810616-Reviews-L...  11810616       0   \n",
       "141    /Restaurant_Review-g187497-d12530776-Reviews-C...  12530776       0   \n",
       "\n",
       "       Rating  Number_of_Reviews_isNAN  Cuisine Style_isNAN  \\\n",
       "44597     3.0                        0                    1   \n",
       "28088     4.5                        0                    0   \n",
       "47758     4.0                        0                    1   \n",
       "6733      0.0                        0                    0   \n",
       "141       0.0                        1                    0   \n",
       "\n",
       "       Price Range_isNAN  Number_of_cuisine              date_reviews  \\\n",
       "44597                  1                  1  [01/01/2018, 01/09/2018]   \n",
       "28088                  0                  1  [05/24/2017, 10/21/2015]   \n",
       "47758                  1                  1  [11/02/2016, 04/10/2016]   \n",
       "6733                   0                  4  [11/17/2017, 11/15/2016]   \n",
       "141                    0                  3              [10/20/2017]   \n",
       "\n",
       "           date1      date2  \n",
       "44597 2018-01-01 2018-01-09  \n",
       "28088 2017-05-24 2015-10-21  \n",
       "47758 2016-11-02 2016-04-10  \n",
       "6733  2017-11-17 2016-11-15  \n",
       "141   2017-10-20        NaT  "
      ]
     },
     "execution_count": 28,
     "metadata": {},
     "output_type": "execute_result"
    }
   ],
   "source": [
    "data.sample(5)"
   ]
  },
  {
   "cell_type": "markdown",
   "metadata": {},
   "source": [
    "Избавимся от признаков, которые дальше не пригодятся:"
   ]
  },
  {
   "cell_type": "code",
   "execution_count": 29,
   "metadata": {},
   "outputs": [
    {
     "data": {
      "text/html": [
       "<div>\n",
       "<style scoped>\n",
       "    .dataframe tbody tr th:only-of-type {\n",
       "        vertical-align: middle;\n",
       "    }\n",
       "\n",
       "    .dataframe tbody tr th {\n",
       "        vertical-align: top;\n",
       "    }\n",
       "\n",
       "    .dataframe thead th {\n",
       "        text-align: right;\n",
       "    }\n",
       "</style>\n",
       "<table border=\"1\" class=\"dataframe\">\n",
       "  <thead>\n",
       "    <tr style=\"text-align: right;\">\n",
       "      <th></th>\n",
       "      <th>Restaurant_id</th>\n",
       "      <th>City</th>\n",
       "      <th>Ranking</th>\n",
       "      <th>Price Range</th>\n",
       "      <th>Number of Reviews</th>\n",
       "      <th>ID_TA</th>\n",
       "      <th>sample</th>\n",
       "      <th>Rating</th>\n",
       "      <th>Number_of_Reviews_isNAN</th>\n",
       "      <th>Cuisine Style_isNAN</th>\n",
       "      <th>Price Range_isNAN</th>\n",
       "      <th>Number_of_cuisine</th>\n",
       "      <th>date1</th>\n",
       "      <th>date2</th>\n",
       "    </tr>\n",
       "  </thead>\n",
       "  <tbody>\n",
       "    <tr>\n",
       "      <th>33881</th>\n",
       "      <td>id_14378</td>\n",
       "      <td>London</td>\n",
       "      <td>14389.0</td>\n",
       "      <td>2.0</td>\n",
       "      <td>32.0</td>\n",
       "      <td>5439526</td>\n",
       "      <td>1</td>\n",
       "      <td>3.0</td>\n",
       "      <td>0</td>\n",
       "      <td>0</td>\n",
       "      <td>0</td>\n",
       "      <td>2</td>\n",
       "      <td>2017-09-27</td>\n",
       "      <td>2016-12-03</td>\n",
       "    </tr>\n",
       "    <tr>\n",
       "      <th>21397</th>\n",
       "      <td>id_835</td>\n",
       "      <td>Geneva</td>\n",
       "      <td>840.0</td>\n",
       "      <td>2.0</td>\n",
       "      <td>3.0</td>\n",
       "      <td>11659467</td>\n",
       "      <td>1</td>\n",
       "      <td>4.5</td>\n",
       "      <td>0</td>\n",
       "      <td>1</td>\n",
       "      <td>1</td>\n",
       "      <td>1</td>\n",
       "      <td>2018-01-05</td>\n",
       "      <td>NaT</td>\n",
       "    </tr>\n",
       "    <tr>\n",
       "      <th>10595</th>\n",
       "      <td>id_1986</td>\n",
       "      <td>Prague</td>\n",
       "      <td>1989.0</td>\n",
       "      <td>2.0</td>\n",
       "      <td>0.0</td>\n",
       "      <td>4768291</td>\n",
       "      <td>1</td>\n",
       "      <td>5.0</td>\n",
       "      <td>1</td>\n",
       "      <td>0</td>\n",
       "      <td>1</td>\n",
       "      <td>2</td>\n",
       "      <td>2015-05-15</td>\n",
       "      <td>NaT</td>\n",
       "    </tr>\n",
       "    <tr>\n",
       "      <th>45978</th>\n",
       "      <td>id_1121</td>\n",
       "      <td>Edinburgh</td>\n",
       "      <td>1122.0</td>\n",
       "      <td>2.0</td>\n",
       "      <td>10.0</td>\n",
       "      <td>7724894</td>\n",
       "      <td>1</td>\n",
       "      <td>4.5</td>\n",
       "      <td>0</td>\n",
       "      <td>0</td>\n",
       "      <td>1</td>\n",
       "      <td>5</td>\n",
       "      <td>2016-11-26</td>\n",
       "      <td>2016-08-11</td>\n",
       "    </tr>\n",
       "    <tr>\n",
       "      <th>21671</th>\n",
       "      <td>id_1053</td>\n",
       "      <td>Amsterdam</td>\n",
       "      <td>1056.0</td>\n",
       "      <td>2.0</td>\n",
       "      <td>42.0</td>\n",
       "      <td>4267945</td>\n",
       "      <td>1</td>\n",
       "      <td>4.5</td>\n",
       "      <td>0</td>\n",
       "      <td>0</td>\n",
       "      <td>0</td>\n",
       "      <td>7</td>\n",
       "      <td>2017-02-17</td>\n",
       "      <td>2017-01-14</td>\n",
       "    </tr>\n",
       "  </tbody>\n",
       "</table>\n",
       "</div>"
      ],
      "text/plain": [
       "      Restaurant_id       City  Ranking  Price Range  Number of Reviews  \\\n",
       "33881      id_14378     London  14389.0          2.0               32.0   \n",
       "21397        id_835     Geneva    840.0          2.0                3.0   \n",
       "10595       id_1986     Prague   1989.0          2.0                0.0   \n",
       "45978       id_1121  Edinburgh   1122.0          2.0               10.0   \n",
       "21671       id_1053  Amsterdam   1056.0          2.0               42.0   \n",
       "\n",
       "          ID_TA  sample  Rating  Number_of_Reviews_isNAN  Cuisine Style_isNAN  \\\n",
       "33881   5439526       1     3.0                        0                    0   \n",
       "21397  11659467       1     4.5                        0                    1   \n",
       "10595   4768291       1     5.0                        1                    0   \n",
       "45978   7724894       1     4.5                        0                    0   \n",
       "21671   4267945       1     4.5                        0                    0   \n",
       "\n",
       "       Price Range_isNAN  Number_of_cuisine      date1      date2  \n",
       "33881                  0                  2 2017-09-27 2016-12-03  \n",
       "21397                  1                  1 2018-01-05        NaT  \n",
       "10595                  1                  2 2015-05-15        NaT  \n",
       "45978                  1                  5 2016-11-26 2016-08-11  \n",
       "21671                  0                  7 2017-02-17 2017-01-14  "
      ]
     },
     "execution_count": 29,
     "metadata": {},
     "output_type": "execute_result"
    }
   ],
   "source": [
    "data.drop(['Cuisine Style','Reviews','URL_TA','date_reviews'], axis = 1, inplace=True)\n",
    "data.sample(5)"
   ]
  },
  {
   "cell_type": "code",
   "execution_count": 30,
   "metadata": {},
   "outputs": [
    {
     "name": "stdout",
     "output_type": "stream",
     "text": [
      "<class 'pandas.core.frame.DataFrame'>\n",
      "RangeIndex: 50000 entries, 0 to 49999\n",
      "Data columns (total 14 columns):\n",
      " #   Column                   Non-Null Count  Dtype         \n",
      "---  ------                   --------------  -----         \n",
      " 0   Restaurant_id            50000 non-null  object        \n",
      " 1   City                     50000 non-null  object        \n",
      " 2   Ranking                  50000 non-null  float64       \n",
      " 3   Price Range              50000 non-null  float64       \n",
      " 4   Number of Reviews        50000 non-null  float64       \n",
      " 5   ID_TA                    50000 non-null  int64         \n",
      " 6   sample                   50000 non-null  int64         \n",
      " 7   Rating                   50000 non-null  float64       \n",
      " 8   Number_of_Reviews_isNAN  50000 non-null  uint8         \n",
      " 9   Cuisine Style_isNAN      50000 non-null  uint8         \n",
      " 10  Price Range_isNAN        50000 non-null  uint8         \n",
      " 11  Number_of_cuisine        50000 non-null  int64         \n",
      " 12  date1                    41886 non-null  datetime64[ns]\n",
      " 13  date2                    36206 non-null  datetime64[ns]\n",
      "dtypes: datetime64[ns](2), float64(4), int64(3), object(2), uint8(3)\n",
      "memory usage: 4.3+ MB\n"
     ]
    }
   ],
   "source": [
    "data.info()"
   ]
  },
  {
   "cell_type": "markdown",
   "metadata": {},
   "source": [
    "# EDA"
   ]
  },
  {
   "cell_type": "markdown",
   "metadata": {},
   "source": [
    "Изучим распределения признаков, взаимосвязи признаков между собой.\n",
    "\n",
    "Важное предположение, которое затем подтвердилось улучшением точности предсказания модели: значение Ranking, как следует из описания, рассчитывалось **относительно других ресторанов в этом городе**. Поэтому нужно стандартизировать значения признаков относительно значений в каждом конкретном городе."
   ]
  },
  {
   "cell_type": "markdown",
   "metadata": {},
   "source": [
    "### Restaurant_id"
   ]
  },
  {
   "cell_type": "markdown",
   "metadata": {},
   "source": [
    "Значение Restaurant_id само по себе никакой полезной информации не несёт - это всего лишь пронумерованный список. Но есть один важный момент - у нас могут попадаться сети ресторанов, которые представлены разным количеством:"
   ]
  },
  {
   "cell_type": "code",
   "execution_count": 31,
   "metadata": {},
   "outputs": [
    {
     "data": {
      "text/plain": [
       "1     3807\n",
       "2     2555\n",
       "3     1845\n",
       "4     1226\n",
       "5      812\n",
       "6      514\n",
       "7      413\n",
       "8      384\n",
       "10     332\n",
       "9      311\n",
       "11     255\n",
       "12     221\n",
       "13     151\n",
       "14     129\n",
       "15      74\n",
       "16      37\n",
       "17      18\n",
       "18       6\n",
       "19       4\n",
       "dtype: int64"
      ]
     },
     "execution_count": 31,
     "metadata": {},
     "output_type": "execute_result"
    }
   ],
   "source": [
    "pd.Series(data.Restaurant_id.value_counts().values).value_counts()"
   ]
  },
  {
   "cell_type": "markdown",
   "metadata": {},
   "source": [
    "Есть уникальные рестораны (3807 шт.), которые встречаются только в одном городе. А есть большие сети (4 шт.), у которых по 19 ресторанов. На основании этих данных можно сформировать новые признаки - является ли ресторан уникальным или принадлежит какой-то сети ресторанов."
   ]
  },
  {
   "cell_type": "code",
   "execution_count": 32,
   "metadata": {},
   "outputs": [
    {
     "data": {
      "text/html": [
       "<div>\n",
       "<style scoped>\n",
       "    .dataframe tbody tr th:only-of-type {\n",
       "        vertical-align: middle;\n",
       "    }\n",
       "\n",
       "    .dataframe tbody tr th {\n",
       "        vertical-align: top;\n",
       "    }\n",
       "\n",
       "    .dataframe thead th {\n",
       "        text-align: right;\n",
       "    }\n",
       "</style>\n",
       "<table border=\"1\" class=\"dataframe\">\n",
       "  <thead>\n",
       "    <tr style=\"text-align: right;\">\n",
       "      <th></th>\n",
       "      <th>City</th>\n",
       "      <th>Ranking</th>\n",
       "      <th>Price Range</th>\n",
       "      <th>Number of Reviews</th>\n",
       "      <th>ID_TA</th>\n",
       "      <th>sample</th>\n",
       "      <th>Rating</th>\n",
       "      <th>Number_of_Reviews_isNAN</th>\n",
       "      <th>Cuisine Style_isNAN</th>\n",
       "      <th>Price Range_isNAN</th>\n",
       "      <th>Number_of_cuisine</th>\n",
       "      <th>date1</th>\n",
       "      <th>date2</th>\n",
       "      <th>restaurant_id_count</th>\n",
       "      <th>count_rest_id_in_city</th>\n",
       "      <th>unique_rest_in_city</th>\n",
       "    </tr>\n",
       "  </thead>\n",
       "  <tbody>\n",
       "    <tr>\n",
       "      <th>0</th>\n",
       "      <td>Paris</td>\n",
       "      <td>12963.0</td>\n",
       "      <td>2.0</td>\n",
       "      <td>4.0</td>\n",
       "      <td>10746918</td>\n",
       "      <td>0</td>\n",
       "      <td>0.0</td>\n",
       "      <td>0</td>\n",
       "      <td>0</td>\n",
       "      <td>0</td>\n",
       "      <td>2</td>\n",
       "      <td>NaT</td>\n",
       "      <td>NaT</td>\n",
       "      <td>16</td>\n",
       "      <td>1.0</td>\n",
       "      <td>1</td>\n",
       "    </tr>\n",
       "    <tr>\n",
       "      <th>1</th>\n",
       "      <td>Helsinki</td>\n",
       "      <td>106.0</td>\n",
       "      <td>2.0</td>\n",
       "      <td>97.0</td>\n",
       "      <td>6674944</td>\n",
       "      <td>0</td>\n",
       "      <td>0.0</td>\n",
       "      <td>0</td>\n",
       "      <td>0</td>\n",
       "      <td>0</td>\n",
       "      <td>5</td>\n",
       "      <td>2017-12-05</td>\n",
       "      <td>2017-10-29</td>\n",
       "      <td>10</td>\n",
       "      <td>1.0</td>\n",
       "      <td>1</td>\n",
       "    </tr>\n",
       "    <tr>\n",
       "      <th>2</th>\n",
       "      <td>Edinburgh</td>\n",
       "      <td>810.0</td>\n",
       "      <td>2.0</td>\n",
       "      <td>28.0</td>\n",
       "      <td>13129638</td>\n",
       "      <td>0</td>\n",
       "      <td>0.0</td>\n",
       "      <td>0</td>\n",
       "      <td>0</td>\n",
       "      <td>0</td>\n",
       "      <td>1</td>\n",
       "      <td>2017-12-28</td>\n",
       "      <td>2017-12-06</td>\n",
       "      <td>15</td>\n",
       "      <td>2.0</td>\n",
       "      <td>0</td>\n",
       "    </tr>\n",
       "    <tr>\n",
       "      <th>3</th>\n",
       "      <td>London</td>\n",
       "      <td>1669.0</td>\n",
       "      <td>3.0</td>\n",
       "      <td>202.0</td>\n",
       "      <td>680417</td>\n",
       "      <td>0</td>\n",
       "      <td>0.0</td>\n",
       "      <td>0</td>\n",
       "      <td>0</td>\n",
       "      <td>0</td>\n",
       "      <td>5</td>\n",
       "      <td>2017-12-06</td>\n",
       "      <td>2017-11-22</td>\n",
       "      <td>9</td>\n",
       "      <td>1.0</td>\n",
       "      <td>1</td>\n",
       "    </tr>\n",
       "    <tr>\n",
       "      <th>4</th>\n",
       "      <td>Bratislava</td>\n",
       "      <td>37.0</td>\n",
       "      <td>3.0</td>\n",
       "      <td>162.0</td>\n",
       "      <td>1112354</td>\n",
       "      <td>0</td>\n",
       "      <td>0.0</td>\n",
       "      <td>0</td>\n",
       "      <td>0</td>\n",
       "      <td>0</td>\n",
       "      <td>6</td>\n",
       "      <td>2018-02-08</td>\n",
       "      <td>2018-01-24</td>\n",
       "      <td>14</td>\n",
       "      <td>1.0</td>\n",
       "      <td>1</td>\n",
       "    </tr>\n",
       "  </tbody>\n",
       "</table>\n",
       "</div>"
      ],
      "text/plain": [
       "         City  Ranking  Price Range  Number of Reviews     ID_TA  sample  \\\n",
       "0       Paris  12963.0          2.0                4.0  10746918       0   \n",
       "1    Helsinki    106.0          2.0               97.0   6674944       0   \n",
       "2   Edinburgh    810.0          2.0               28.0  13129638       0   \n",
       "3      London   1669.0          3.0              202.0    680417       0   \n",
       "4  Bratislava     37.0          3.0              162.0   1112354       0   \n",
       "\n",
       "   Rating  Number_of_Reviews_isNAN  Cuisine Style_isNAN  Price Range_isNAN  \\\n",
       "0     0.0                        0                    0                  0   \n",
       "1     0.0                        0                    0                  0   \n",
       "2     0.0                        0                    0                  0   \n",
       "3     0.0                        0                    0                  0   \n",
       "4     0.0                        0                    0                  0   \n",
       "\n",
       "   Number_of_cuisine      date1      date2  restaurant_id_count  \\\n",
       "0                  2        NaT        NaT                   16   \n",
       "1                  5 2017-12-05 2017-10-29                   10   \n",
       "2                  1 2017-12-28 2017-12-06                   15   \n",
       "3                  5 2017-12-06 2017-11-22                    9   \n",
       "4                  6 2018-02-08 2018-01-24                   14   \n",
       "\n",
       "   count_rest_id_in_city  unique_rest_in_city  \n",
       "0                    1.0                    1  \n",
       "1                    1.0                    1  \n",
       "2                    2.0                    0  \n",
       "3                    1.0                    1  \n",
       "4                    1.0                    1  "
      ]
     },
     "execution_count": 32,
     "metadata": {},
     "output_type": "execute_result"
    }
   ],
   "source": [
    "data = data.reset_index()\n",
    "\n",
    "restaurant_id_count = data.groupby('Restaurant_id').Restaurant_id.count()\n",
    "\n",
    "data['restaurant_id_count'] = data['Restaurant_id'].map(restaurant_id_count)\n",
    "\n",
    "# количество ресторанов определенной сети в конкретном городе\n",
    "count_rest_id_in_city = pd.pivot_table(data, index='Restaurant_id', columns='City', aggfunc='count', values='index').fillna(0)\n",
    "\n",
    "# новый признак - сколько ресторанов данной сети находится в данном городе\n",
    "data['count_rest_id_in_city'] = data[['City','Restaurant_id']].apply(lambda x: count_rest_id_in_city[x[0]][x[1]], axis=1)\n",
    "\n",
    "#data['unique_rest'] = data['restaurant_id_count'].apply(lambda x: 1 if x==1 else 0)\n",
    "\n",
    "# новый признак - является ли ресторан уникальным в данном городе\n",
    "data['unique_rest_in_city'] = data['count_rest_id_in_city'].apply(lambda x: 1 if x==1 else 0)\n",
    "\n",
    "# избавляемся от ненужные признаков для дальнейшей работы\n",
    "data.drop(['index','Restaurant_id'], axis=1, inplace=True)\n",
    "\n",
    "data.head()"
   ]
  },
  {
   "cell_type": "markdown",
   "metadata": {},
   "source": [
    "### Ranking"
   ]
  },
  {
   "cell_type": "code",
   "execution_count": 33,
   "metadata": {},
   "outputs": [
    {
     "data": {
      "text/plain": [
       "<matplotlib.axes._subplots.AxesSubplot at 0x20a9d6d3108>"
      ]
     },
     "execution_count": 33,
     "metadata": {},
     "output_type": "execute_result"
    },
    {
     "data": {
      "image/png": "[encoded data removed]",
      "text/plain": [
       "<Figure size 720x504 with 1 Axes>"
      ]
     },
     "metadata": {
      "needs_background": "light"
     },
     "output_type": "display_data"
    }
   ],
   "source": [
    "plt.rcParams['figure.figsize'] = (10,7)\n",
    "data['Ranking'].hist(bins=100)"
   ]
  },
  {
   "cell_type": "markdown",
   "metadata": {},
   "source": [
    "У нас много ресторанов, которые не дотягивают и до 2500 места в своем городе, а что там по городам?"
   ]
  },
  {
   "cell_type": "code",
   "execution_count": 34,
   "metadata": {},
   "outputs": [
    {
     "data": {
      "image/png": "[encoded data removed]",
      "text/plain": [
       "<Figure size 720x504 with 1 Axes>"
      ]
     },
     "metadata": {
      "needs_background": "light"
     },
     "output_type": "display_data"
    }
   ],
   "source": [
    "for x in (data['City'].value_counts())[0:10].index:\n",
    "    data['Ranking'][data['City'] == x].hist(bins=100)\n",
    "plt.show()"
   ]
  },
  {
   "cell_type": "markdown",
   "metadata": {},
   "source": [
    "Получается, что Ranking имеет нормальное распределение, просто в больших городах больше ресторанов, из-за мы этого имеем смещение. Приведем значения к стандартизированному виду:"
   ]
  },
  {
   "cell_type": "code",
   "execution_count": 35,
   "metadata": {},
   "outputs": [],
   "source": [
    "means = data.groupby('City')['Ranking'].mean()\n",
    "std = data.groupby('City')['Ranking'].std()\n",
    "data['Ranking_std'] = (data.Ranking - data.City.map(means))/(data.City.map(std))"
   ]
  },
  {
   "cell_type": "code",
   "execution_count": 36,
   "metadata": {},
   "outputs": [
    {
     "data": {
      "image/png": "[encoded data removed]",
      "text/plain": [
       "<Figure size 720x504 with 1 Axes>"
      ]
     },
     "metadata": {
      "needs_background": "light"
     },
     "output_type": "display_data"
    }
   ],
   "source": [
    "for x in (data['City'].value_counts())[0:10].index:\n",
    "    data['Ranking_std'][data['City'] == x].hist(bins=100)\n",
    "plt.show()"
   ]
  },
  {
   "cell_type": "markdown",
   "metadata": {},
   "source": [
    "### Number of Reviews"
   ]
  },
  {
   "cell_type": "markdown",
   "metadata": {},
   "source": [
    "Посмотрим сколько всего отзывов оставили в каждом городе:"
   ]
  },
  {
   "cell_type": "code",
   "execution_count": 37,
   "metadata": {
    "scrolled": false
   },
   "outputs": [
    {
     "data": {
      "text/plain": [
       "<matplotlib.axes._subplots.AxesSubplot at 0x20a9d76af88>"
      ]
     },
     "execution_count": 37,
     "metadata": {},
     "output_type": "execute_result"
    },
    {
     "data": {
      "image/png": "[encoded data removed]",
      "text/plain": [
       "<Figure size 720x504 with 1 Axes>"
      ]
     },
     "metadata": {
      "needs_background": "light"
     },
     "output_type": "display_data"
    }
   ],
   "source": [
    "data.groupby('City')['Number of Reviews'].sum().sort_values().plot(kind='barh')"
   ]
  },
  {
   "cell_type": "markdown",
   "metadata": {},
   "source": [
    "Сравним это с тем, как распределено количество ресторанов по городам:"
   ]
  },
  {
   "cell_type": "code",
   "execution_count": 38,
   "metadata": {},
   "outputs": [
    {
     "data": {
      "text/plain": [
       "<matplotlib.axes._subplots.AxesSubplot at 0x20a9de38a88>"
      ]
     },
     "execution_count": 38,
     "metadata": {},
     "output_type": "execute_result"
    },
    {
     "data": {
      "image/png": "[encoded data removed]",
      "text/plain": [
       "<Figure size 720x504 with 1 Axes>"
      ]
     },
     "metadata": {
      "needs_background": "light"
     },
     "output_type": "display_data"
    }
   ],
   "source": [
    "data['City'].value_counts(ascending=True).plot(kind='barh')"
   ]
  },
  {
   "cell_type": "markdown",
   "metadata": {},
   "source": [
    "Распределение получилось похожим. Чем больше ресторанов в городе, тем больше отзывов о ресторанах по данному городу. Поделим количество отзывов на количество ресторанов в городе и посмотрим распределение:"
   ]
  },
  {
   "cell_type": "code",
   "execution_count": 39,
   "metadata": {},
   "outputs": [
    {
     "data": {
      "text/plain": [
       "<matplotlib.axes._subplots.AxesSubplot at 0x20a9e1343c8>"
      ]
     },
     "execution_count": 39,
     "metadata": {},
     "output_type": "execute_result"
    },
    {
     "data": {
      "image/png": "[encoded data removed]",
      "text/plain": [
       "<Figure size 720x504 with 1 Axes>"
      ]
     },
     "metadata": {
      "needs_background": "light"
     },
     "output_type": "display_data"
    }
   ],
   "source": [
    "city_sum_reviews = data.groupby('City')['Number of Reviews'].sum()\n",
    "data['city_sum_reviews'] = data.City.map(city_sum_reviews)\n",
    "city_count_rest = data.groupby('City').City.count()\n",
    "data['city_count_rest'] = data.City.map(city_count_rest)\n",
    "city_reviews_mean = city_sum_reviews/city_count_rest\n",
    "data['city_reviews_mean'] = data.City.map(city_reviews_mean)\n",
    "\n",
    "city_reviews_mean.sort_values().plot(kind='barh')"
   ]
  },
  {
   "cell_type": "markdown",
   "metadata": {},
   "source": [
    "Насколько коррелирует среднее количество отзывов на один ресторан с количеством ресторанов в городе?"
   ]
  },
  {
   "cell_type": "code",
   "execution_count": 40,
   "metadata": {},
   "outputs": [
    {
     "data": {
      "text/plain": [
       "array([[1.        , 0.22850256],\n",
       "       [0.22850256, 1.        ]])"
      ]
     },
     "execution_count": 40,
     "metadata": {},
     "output_type": "execute_result"
    }
   ],
   "source": [
    "np.corrcoef(city_reviews_mean, city_count_rest)"
   ]
  },
  {
   "cell_type": "markdown",
   "metadata": {},
   "source": [
    "Данный коэффициент корреляции говорит о том, что есть положительная корреляция между количеством рестораном в городе и средним количеством отзывов на один ресторан. Но величина коэффициента не настолько велика, чтобы полностью объяснить эту взаимосвязь. Действительно, больше всего ресторанов в Лондоне и количество отзывов больше всего тоже в Лондоне, но среднее количество на один ресторан больше всего в Риме."
   ]
  },
  {
   "cell_type": "markdown",
   "metadata": {},
   "source": [
    "### Number of Cuisine"
   ]
  },
  {
   "cell_type": "markdown",
   "metadata": {},
   "source": [
    "Посмотрим, как распределено среднее количество кухонь на один ресторан в каждом городе:"
   ]
  },
  {
   "cell_type": "code",
   "execution_count": 41,
   "metadata": {},
   "outputs": [
    {
     "data": {
      "text/plain": [
       "<matplotlib.axes._subplots.AxesSubplot at 0x20a9e220188>"
      ]
     },
     "execution_count": 41,
     "metadata": {},
     "output_type": "execute_result"
    },
    {
     "data": {
      "image/png": "[encoded data removed]",
      "text/plain": [
       "<Figure size 720x504 with 1 Axes>"
      ]
     },
     "metadata": {
      "needs_background": "light"
     },
     "output_type": "display_data"
    }
   ],
   "source": [
    "city_sum_cuisine = data.groupby('City')['Number_of_cuisine'].sum()\n",
    "data['city_sum_cuisine'] = data.City.map(city_sum_cuisine)\n",
    "city_cuisine_mean = city_sum_cuisine/city_count_rest\n",
    "\n",
    "city_cuisine_mean.sort_values().plot(kind='barh')"
   ]
  },
  {
   "cell_type": "markdown",
   "metadata": {},
   "source": [
    "Однозначно стоит когда-нибудь посетить Эдинбург! И в Дублин заодно заглянуть. В Амстердаме уже был."
   ]
  },
  {
   "cell_type": "markdown",
   "metadata": {},
   "source": [
    "### Price Range"
   ]
  },
  {
   "cell_type": "markdown",
   "metadata": {},
   "source": [
    "Посмотрим среднюю ценовую категорию ресторанов в каждом городе:"
   ]
  },
  {
   "cell_type": "code",
   "execution_count": 42,
   "metadata": {},
   "outputs": [
    {
     "data": {
      "text/plain": [
       "<matplotlib.axes._subplots.AxesSubplot at 0x20a9e2b0208>"
      ]
     },
     "execution_count": 42,
     "metadata": {},
     "output_type": "execute_result"
    },
    {
     "data": {
      "image/png": "[encoded data removed]",
      "text/plain": [
       "<Figure size 720x504 with 1 Axes>"
      ]
     },
     "metadata": {
      "needs_background": "light"
     },
     "output_type": "display_data"
    }
   ],
   "source": [
    "data.groupby('City')['Price Range'].mean().sort_values().plot(kind='barh')"
   ]
  },
  {
   "cell_type": "markdown",
   "metadata": {},
   "source": [
    "Самые дорогие \"в среднем\" рестораны оказались, как и ожидалось в Швейцарии - в Женеве и в Цюрихе. И снова радует Эдинбург! И в Краков можно заглянуть недорого поесть, разнообразие кухонь там тоже \"в среднем\" неплохое."
   ]
  },
  {
   "cell_type": "markdown",
   "metadata": {},
   "source": [
    "# Feature Engineering"
   ]
  },
  {
   "cell_type": "markdown",
   "metadata": {},
   "source": [
    "Посмотрим, что на данный момент творится в датасете и с какими признаками еще можно поработать:"
   ]
  },
  {
   "cell_type": "code",
   "execution_count": 43,
   "metadata": {},
   "outputs": [
    {
     "data": {
      "text/html": [
       "<div>\n",
       "<style scoped>\n",
       "    .dataframe tbody tr th:only-of-type {\n",
       "        vertical-align: middle;\n",
       "    }\n",
       "\n",
       "    .dataframe tbody tr th {\n",
       "        vertical-align: top;\n",
       "    }\n",
       "\n",
       "    .dataframe thead th {\n",
       "        text-align: right;\n",
       "    }\n",
       "</style>\n",
       "<table border=\"1\" class=\"dataframe\">\n",
       "  <thead>\n",
       "    <tr style=\"text-align: right;\">\n",
       "      <th></th>\n",
       "      <th>City</th>\n",
       "      <th>Ranking</th>\n",
       "      <th>Price Range</th>\n",
       "      <th>Number of Reviews</th>\n",
       "      <th>ID_TA</th>\n",
       "      <th>sample</th>\n",
       "      <th>Rating</th>\n",
       "      <th>Number_of_Reviews_isNAN</th>\n",
       "      <th>Cuisine Style_isNAN</th>\n",
       "      <th>Price Range_isNAN</th>\n",
       "      <th>...</th>\n",
       "      <th>date1</th>\n",
       "      <th>date2</th>\n",
       "      <th>restaurant_id_count</th>\n",
       "      <th>count_rest_id_in_city</th>\n",
       "      <th>unique_rest_in_city</th>\n",
       "      <th>Ranking_std</th>\n",
       "      <th>city_sum_reviews</th>\n",
       "      <th>city_count_rest</th>\n",
       "      <th>city_reviews_mean</th>\n",
       "      <th>city_sum_cuisine</th>\n",
       "    </tr>\n",
       "  </thead>\n",
       "  <tbody>\n",
       "    <tr>\n",
       "      <th>47316</th>\n",
       "      <td>Berlin</td>\n",
       "      <td>1236.0</td>\n",
       "      <td>1.0</td>\n",
       "      <td>42.0</td>\n",
       "      <td>11707664</td>\n",
       "      <td>1</td>\n",
       "      <td>4.0</td>\n",
       "      <td>0</td>\n",
       "      <td>0</td>\n",
       "      <td>0</td>\n",
       "      <td>...</td>\n",
       "      <td>2017-09-25</td>\n",
       "      <td>2017-09-04</td>\n",
       "      <td>14</td>\n",
       "      <td>1.0</td>\n",
       "      <td>1</td>\n",
       "      <td>-1.111652</td>\n",
       "      <td>155923.0</td>\n",
       "      <td>2705</td>\n",
       "      <td>57.642514</td>\n",
       "      <td>6158</td>\n",
       "    </tr>\n",
       "    <tr>\n",
       "      <th>17725</th>\n",
       "      <td>London</td>\n",
       "      <td>15663.0</td>\n",
       "      <td>2.0</td>\n",
       "      <td>14.0</td>\n",
       "      <td>3349108</td>\n",
       "      <td>1</td>\n",
       "      <td>3.0</td>\n",
       "      <td>0</td>\n",
       "      <td>0</td>\n",
       "      <td>0</td>\n",
       "      <td>...</td>\n",
       "      <td>2017-10-02</td>\n",
       "      <td>2017-11-26</td>\n",
       "      <td>1</td>\n",
       "      <td>1.0</td>\n",
       "      <td>1</td>\n",
       "      <td>1.586230</td>\n",
       "      <td>933770.0</td>\n",
       "      <td>7193</td>\n",
       "      <td>129.816488</td>\n",
       "      <td>21357</td>\n",
       "    </tr>\n",
       "    <tr>\n",
       "      <th>29364</th>\n",
       "      <td>Paris</td>\n",
       "      <td>1827.0</td>\n",
       "      <td>2.0</td>\n",
       "      <td>352.0</td>\n",
       "      <td>1309227</td>\n",
       "      <td>1</td>\n",
       "      <td>4.0</td>\n",
       "      <td>0</td>\n",
       "      <td>0</td>\n",
       "      <td>0</td>\n",
       "      <td>...</td>\n",
       "      <td>2017-11-12</td>\n",
       "      <td>2017-11-02</td>\n",
       "      <td>8</td>\n",
       "      <td>1.0</td>\n",
       "      <td>1</td>\n",
       "      <td>-1.265258</td>\n",
       "      <td>680827.0</td>\n",
       "      <td>6108</td>\n",
       "      <td>111.464800</td>\n",
       "      <td>13083</td>\n",
       "    </tr>\n",
       "    <tr>\n",
       "      <th>44071</th>\n",
       "      <td>Budapest</td>\n",
       "      <td>1580.0</td>\n",
       "      <td>2.0</td>\n",
       "      <td>7.0</td>\n",
       "      <td>7699489</td>\n",
       "      <td>1</td>\n",
       "      <td>4.0</td>\n",
       "      <td>0</td>\n",
       "      <td>1</td>\n",
       "      <td>1</td>\n",
       "      <td>...</td>\n",
       "      <td>2017-10-09</td>\n",
       "      <td>2017-07-24</td>\n",
       "      <td>7</td>\n",
       "      <td>1.0</td>\n",
       "      <td>1</td>\n",
       "      <td>0.513092</td>\n",
       "      <td>148366.0</td>\n",
       "      <td>1021</td>\n",
       "      <td>145.314398</td>\n",
       "      <td>3347</td>\n",
       "    </tr>\n",
       "    <tr>\n",
       "      <th>14280</th>\n",
       "      <td>Madrid</td>\n",
       "      <td>1886.0</td>\n",
       "      <td>2.0</td>\n",
       "      <td>70.0</td>\n",
       "      <td>991149</td>\n",
       "      <td>1</td>\n",
       "      <td>4.0</td>\n",
       "      <td>0</td>\n",
       "      <td>0</td>\n",
       "      <td>0</td>\n",
       "      <td>...</td>\n",
       "      <td>2016-02-25</td>\n",
       "      <td>2015-10-11</td>\n",
       "      <td>8</td>\n",
       "      <td>1.0</td>\n",
       "      <td>1</td>\n",
       "      <td>-0.990054</td>\n",
       "      <td>357185.0</td>\n",
       "      <td>3813</td>\n",
       "      <td>93.675584</td>\n",
       "      <td>8033</td>\n",
       "    </tr>\n",
       "  </tbody>\n",
       "</table>\n",
       "<p>5 rows × 21 columns</p>\n",
       "</div>"
      ],
      "text/plain": [
       "           City  Ranking  Price Range  Number of Reviews     ID_TA  sample  \\\n",
       "47316    Berlin   1236.0          1.0               42.0  11707664       1   \n",
       "17725    London  15663.0          2.0               14.0   3349108       1   \n",
       "29364     Paris   1827.0          2.0              352.0   1309227       1   \n",
       "44071  Budapest   1580.0          2.0                7.0   7699489       1   \n",
       "14280    Madrid   1886.0          2.0               70.0    991149       1   \n",
       "\n",
       "       Rating  Number_of_Reviews_isNAN  Cuisine Style_isNAN  \\\n",
       "47316     4.0                        0                    0   \n",
       "17725     3.0                        0                    0   \n",
       "29364     4.0                        0                    0   \n",
       "44071     4.0                        0                    1   \n",
       "14280     4.0                        0                    0   \n",
       "\n",
       "       Price Range_isNAN  ...      date1      date2 restaurant_id_count  \\\n",
       "47316                  0  ... 2017-09-25 2017-09-04                  14   \n",
       "17725                  0  ... 2017-10-02 2017-11-26                   1   \n",
       "29364                  0  ... 2017-11-12 2017-11-02                   8   \n",
       "44071                  1  ... 2017-10-09 2017-07-24                   7   \n",
       "14280                  0  ... 2016-02-25 2015-10-11                   8   \n",
       "\n",
       "       count_rest_id_in_city  unique_rest_in_city  Ranking_std  \\\n",
       "47316                    1.0                    1    -1.111652   \n",
       "17725                    1.0                    1     1.586230   \n",
       "29364                    1.0                    1    -1.265258   \n",
       "44071                    1.0                    1     0.513092   \n",
       "14280                    1.0                    1    -0.990054   \n",
       "\n",
       "       city_sum_reviews  city_count_rest  city_reviews_mean  city_sum_cuisine  \n",
       "47316          155923.0             2705          57.642514              6158  \n",
       "17725          933770.0             7193         129.816488             21357  \n",
       "29364          680827.0             6108         111.464800             13083  \n",
       "44071          148366.0             1021         145.314398              3347  \n",
       "14280          357185.0             3813          93.675584              8033  \n",
       "\n",
       "[5 rows x 21 columns]"
      ]
     },
     "execution_count": 43,
     "metadata": {},
     "output_type": "execute_result"
    }
   ],
   "source": [
    "data.sample(5)"
   ]
  },
  {
   "cell_type": "markdown",
   "metadata": {},
   "source": [
    "У нас есть даты отзывов date1 и date2, из которых можно извлечь два новых признака:"
   ]
  },
  {
   "cell_type": "markdown",
   "metadata": {},
   "source": [
    "### Количество дней, прошедших со дня последнего отзыва на сайте"
   ]
  },
  {
   "cell_type": "code",
   "execution_count": 44,
   "metadata": {},
   "outputs": [],
   "source": [
    "data['days_from_last_review'] = data[['date1','date2']].apply(lambda x: (max(data['date1'].max(),data['date2'].max())-max(x[0], x[1])).days, axis=1)"
   ]
  },
  {
   "cell_type": "code",
   "execution_count": 45,
   "metadata": {},
   "outputs": [
    {
     "data": {
      "text/plain": [
       "<matplotlib.axes._subplots.AxesSubplot at 0x20a9d47f2c8>"
      ]
     },
     "execution_count": 45,
     "metadata": {},
     "output_type": "execute_result"
    },
    {
     "data": {
      "image/png": "[encoded data removed]",
      "text/plain": [
       "<Figure size 720x504 with 1 Axes>"
      ]
     },
     "metadata": {
      "needs_background": "light"
     },
     "output_type": "display_data"
    }
   ],
   "source": [
    "data['days_from_last_review'].hist()"
   ]
  },
  {
   "cell_type": "markdown",
   "metadata": {},
   "source": [
    "Создадим дополнительный признак для пропущенный значений:"
   ]
  },
  {
   "cell_type": "code",
   "execution_count": 46,
   "metadata": {},
   "outputs": [],
   "source": [
    "data['days_from_last_review_isNAN'] = pd.isna(data['days_from_last_review']).astype('uint8')"
   ]
  },
  {
   "cell_type": "code",
   "execution_count": 47,
   "metadata": {
    "scrolled": false
   },
   "outputs": [
    {
     "data": {
      "text/plain": [
       "<matplotlib.axes._subplots.AxesSubplot at 0x20a9e38a208>"
      ]
     },
     "execution_count": 47,
     "metadata": {},
     "output_type": "execute_result"
    },
    {
     "data": {
      "image/png": "[encoded data removed]",
      "text/plain": [
       "<Figure size 720x504 with 1 Axes>"
      ]
     },
     "metadata": {
      "needs_background": "light"
     },
     "output_type": "display_data"
    }
   ],
   "source": [
    "city_days_from_last_review_median = data.groupby('City')['days_from_last_review'].median()\n",
    "city_days_from_last_review_median.sort_values().plot(kind='barh')"
   ]
  },
  {
   "cell_type": "code",
   "execution_count": 48,
   "metadata": {},
   "outputs": [
    {
     "data": {
      "text/plain": [
       "count    41886.000000\n",
       "mean       290.045361\n",
       "std        363.252094\n",
       "min          0.000000\n",
       "25%         79.000000\n",
       "50%        153.000000\n",
       "75%        337.000000\n",
       "max       5059.000000\n",
       "Name: days_from_last_review, dtype: float64"
      ]
     },
     "execution_count": 48,
     "metadata": {},
     "output_type": "execute_result"
    }
   ],
   "source": [
    "data['days_from_last_review'].describe()"
   ]
  },
  {
   "cell_type": "markdown",
   "metadata": {},
   "source": [
    "Заполним пропуски медианным значением по городу:"
   ]
  },
  {
   "cell_type": "code",
   "execution_count": 49,
   "metadata": {},
   "outputs": [],
   "source": [
    "data['days_from_last_review'].fillna(data.City.map(city_days_from_last_review_median), inplace=True)"
   ]
  },
  {
   "cell_type": "markdown",
   "metadata": {},
   "source": [
    "### Разница во времени между двумя последними оставленными отзывами"
   ]
  },
  {
   "cell_type": "code",
   "execution_count": 50,
   "metadata": {},
   "outputs": [],
   "source": [
    "data['diff_time'] = data[['date1','date2']].apply(lambda x: abs((x[0]-x[1]).days) if x[1] is not None else None, axis=1)"
   ]
  },
  {
   "cell_type": "markdown",
   "metadata": {},
   "source": [
    "Создадим дополнительный признак для пропущенных значений:"
   ]
  },
  {
   "cell_type": "code",
   "execution_count": 51,
   "metadata": {},
   "outputs": [],
   "source": [
    "data['diff_time_isNAN'] = pd.isna(data['diff_time']).astype('uint8')"
   ]
  },
  {
   "cell_type": "code",
   "execution_count": 52,
   "metadata": {},
   "outputs": [
    {
     "data": {
      "text/plain": [
       "<matplotlib.axes._subplots.AxesSubplot at 0x20a9e4af5c8>"
      ]
     },
     "execution_count": 52,
     "metadata": {},
     "output_type": "execute_result"
    },
    {
     "data": {
      "image/png": "[encoded data removed]",
      "text/plain": [
       "<Figure size 720x504 with 1 Axes>"
      ]
     },
     "metadata": {
      "needs_background": "light"
     },
     "output_type": "display_data"
    }
   ],
   "source": [
    "city_diff_time_median = data.groupby('City')['diff_time'].median()\n",
    "city_diff_time_median.sort_values().plot(kind='barh')"
   ]
  },
  {
   "cell_type": "markdown",
   "metadata": {},
   "source": [
    "Заполним пропуски медианным значением по городу:"
   ]
  },
  {
   "cell_type": "code",
   "execution_count": 53,
   "metadata": {},
   "outputs": [],
   "source": [
    "data['diff_time'].fillna(data.City.map(city_diff_time_median), inplace=True)"
   ]
  },
  {
   "cell_type": "markdown",
   "metadata": {},
   "source": [
    "Посмотрим, что теперь есть в нашем датасете:"
   ]
  },
  {
   "cell_type": "code",
   "execution_count": 54,
   "metadata": {},
   "outputs": [
    {
     "data": {
      "text/html": [
       "<div>\n",
       "<style scoped>\n",
       "    .dataframe tbody tr th:only-of-type {\n",
       "        vertical-align: middle;\n",
       "    }\n",
       "\n",
       "    .dataframe tbody tr th {\n",
       "        vertical-align: top;\n",
       "    }\n",
       "\n",
       "    .dataframe thead th {\n",
       "        text-align: right;\n",
       "    }\n",
       "</style>\n",
       "<table border=\"1\" class=\"dataframe\">\n",
       "  <thead>\n",
       "    <tr style=\"text-align: right;\">\n",
       "      <th></th>\n",
       "      <th>City</th>\n",
       "      <th>Ranking</th>\n",
       "      <th>Price Range</th>\n",
       "      <th>Number of Reviews</th>\n",
       "      <th>ID_TA</th>\n",
       "      <th>sample</th>\n",
       "      <th>Rating</th>\n",
       "      <th>Number_of_Reviews_isNAN</th>\n",
       "      <th>Cuisine Style_isNAN</th>\n",
       "      <th>Price Range_isNAN</th>\n",
       "      <th>...</th>\n",
       "      <th>unique_rest_in_city</th>\n",
       "      <th>Ranking_std</th>\n",
       "      <th>city_sum_reviews</th>\n",
       "      <th>city_count_rest</th>\n",
       "      <th>city_reviews_mean</th>\n",
       "      <th>city_sum_cuisine</th>\n",
       "      <th>days_from_last_review</th>\n",
       "      <th>days_from_last_review_isNAN</th>\n",
       "      <th>diff_time</th>\n",
       "      <th>diff_time_isNAN</th>\n",
       "    </tr>\n",
       "  </thead>\n",
       "  <tbody>\n",
       "    <tr>\n",
       "      <th>2538</th>\n",
       "      <td>London</td>\n",
       "      <td>3483.0</td>\n",
       "      <td>2.0</td>\n",
       "      <td>121.0</td>\n",
       "      <td>719384</td>\n",
       "      <td>0</td>\n",
       "      <td>0.0</td>\n",
       "      <td>0</td>\n",
       "      <td>0</td>\n",
       "      <td>0</td>\n",
       "      <td>...</td>\n",
       "      <td>1</td>\n",
       "      <td>-0.992113</td>\n",
       "      <td>933770.0</td>\n",
       "      <td>7193</td>\n",
       "      <td>129.816488</td>\n",
       "      <td>21357</td>\n",
       "      <td>114.0</td>\n",
       "      <td>0</td>\n",
       "      <td>45.0</td>\n",
       "      <td>0</td>\n",
       "    </tr>\n",
       "    <tr>\n",
       "      <th>29930</th>\n",
       "      <td>Helsinki</td>\n",
       "      <td>518.0</td>\n",
       "      <td>2.0</td>\n",
       "      <td>14.0</td>\n",
       "      <td>10637959</td>\n",
       "      <td>1</td>\n",
       "      <td>4.0</td>\n",
       "      <td>0</td>\n",
       "      <td>1</td>\n",
       "      <td>1</td>\n",
       "      <td>...</td>\n",
       "      <td>1</td>\n",
       "      <td>-0.141705</td>\n",
       "      <td>29511.0</td>\n",
       "      <td>475</td>\n",
       "      <td>62.128421</td>\n",
       "      <td>1248</td>\n",
       "      <td>209.0</td>\n",
       "      <td>0</td>\n",
       "      <td>12.0</td>\n",
       "      <td>0</td>\n",
       "    </tr>\n",
       "    <tr>\n",
       "      <th>4070</th>\n",
       "      <td>Brussels</td>\n",
       "      <td>1204.0</td>\n",
       "      <td>2.0</td>\n",
       "      <td>14.0</td>\n",
       "      <td>5978937</td>\n",
       "      <td>0</td>\n",
       "      <td>0.0</td>\n",
       "      <td>0</td>\n",
       "      <td>0</td>\n",
       "      <td>1</td>\n",
       "      <td>...</td>\n",
       "      <td>1</td>\n",
       "      <td>-0.389923</td>\n",
       "      <td>113956.0</td>\n",
       "      <td>1314</td>\n",
       "      <td>86.724505</td>\n",
       "      <td>3288</td>\n",
       "      <td>88.0</td>\n",
       "      <td>0</td>\n",
       "      <td>1152.0</td>\n",
       "      <td>0</td>\n",
       "    </tr>\n",
       "    <tr>\n",
       "      <th>44047</th>\n",
       "      <td>Hamburg</td>\n",
       "      <td>1422.0</td>\n",
       "      <td>2.0</td>\n",
       "      <td>10.0</td>\n",
       "      <td>969913</td>\n",
       "      <td>1</td>\n",
       "      <td>4.5</td>\n",
       "      <td>0</td>\n",
       "      <td>1</td>\n",
       "      <td>1</td>\n",
       "      <td>...</td>\n",
       "      <td>1</td>\n",
       "      <td>0.058753</td>\n",
       "      <td>48853.0</td>\n",
       "      <td>1186</td>\n",
       "      <td>41.191400</td>\n",
       "      <td>2297</td>\n",
       "      <td>928.0</td>\n",
       "      <td>0</td>\n",
       "      <td>122.0</td>\n",
       "      <td>1</td>\n",
       "    </tr>\n",
       "    <tr>\n",
       "      <th>38892</th>\n",
       "      <td>London</td>\n",
       "      <td>7417.0</td>\n",
       "      <td>1.0</td>\n",
       "      <td>5.0</td>\n",
       "      <td>12702760</td>\n",
       "      <td>1</td>\n",
       "      <td>5.0</td>\n",
       "      <td>0</td>\n",
       "      <td>0</td>\n",
       "      <td>0</td>\n",
       "      <td>...</td>\n",
       "      <td>1</td>\n",
       "      <td>-0.159338</td>\n",
       "      <td>933770.0</td>\n",
       "      <td>7193</td>\n",
       "      <td>129.816488</td>\n",
       "      <td>21357</td>\n",
       "      <td>72.0</td>\n",
       "      <td>0</td>\n",
       "      <td>30.0</td>\n",
       "      <td>0</td>\n",
       "    </tr>\n",
       "  </tbody>\n",
       "</table>\n",
       "<p>5 rows × 25 columns</p>\n",
       "</div>"
      ],
      "text/plain": [
       "           City  Ranking  Price Range  Number of Reviews     ID_TA  sample  \\\n",
       "2538     London   3483.0          2.0              121.0    719384       0   \n",
       "29930  Helsinki    518.0          2.0               14.0  10637959       1   \n",
       "4070   Brussels   1204.0          2.0               14.0   5978937       0   \n",
       "44047   Hamburg   1422.0          2.0               10.0    969913       1   \n",
       "38892    London   7417.0          1.0                5.0  12702760       1   \n",
       "\n",
       "       Rating  Number_of_Reviews_isNAN  Cuisine Style_isNAN  \\\n",
       "2538      0.0                        0                    0   \n",
       "29930     4.0                        0                    1   \n",
       "4070      0.0                        0                    0   \n",
       "44047     4.5                        0                    1   \n",
       "38892     5.0                        0                    0   \n",
       "\n",
       "       Price Range_isNAN  ...  unique_rest_in_city Ranking_std  \\\n",
       "2538                   0  ...                    1   -0.992113   \n",
       "29930                  1  ...                    1   -0.141705   \n",
       "4070                   1  ...                    1   -0.389923   \n",
       "44047                  1  ...                    1    0.058753   \n",
       "38892                  0  ...                    1   -0.159338   \n",
       "\n",
       "      city_sum_reviews  city_count_rest  city_reviews_mean  city_sum_cuisine  \\\n",
       "2538          933770.0             7193         129.816488             21357   \n",
       "29930          29511.0              475          62.128421              1248   \n",
       "4070          113956.0             1314          86.724505              3288   \n",
       "44047          48853.0             1186          41.191400              2297   \n",
       "38892         933770.0             7193         129.816488             21357   \n",
       "\n",
       "       days_from_last_review  days_from_last_review_isNAN  diff_time  \\\n",
       "2538                   114.0                            0       45.0   \n",
       "29930                  209.0                            0       12.0   \n",
       "4070                    88.0                            0     1152.0   \n",
       "44047                  928.0                            0      122.0   \n",
       "38892                   72.0                            0       30.0   \n",
       "\n",
       "       diff_time_isNAN  \n",
       "2538                 0  \n",
       "29930                0  \n",
       "4070                 0  \n",
       "44047                1  \n",
       "38892                0  \n",
       "\n",
       "[5 rows x 25 columns]"
      ]
     },
     "execution_count": 54,
     "metadata": {},
     "output_type": "execute_result"
    }
   ],
   "source": [
    "data.sample(5)"
   ]
  },
  {
   "cell_type": "markdown",
   "metadata": {},
   "source": [
    "Избавимся от ненужных признаков для дальнейшей работы:"
   ]
  },
  {
   "cell_type": "code",
   "execution_count": 55,
   "metadata": {},
   "outputs": [],
   "source": [
    "data.drop(['date1','date2'], axis = 1, inplace=True)"
   ]
  },
  {
   "cell_type": "code",
   "execution_count": 56,
   "metadata": {},
   "outputs": [
    {
     "data": {
      "text/html": [
       "<div>\n",
       "<style scoped>\n",
       "    .dataframe tbody tr th:only-of-type {\n",
       "        vertical-align: middle;\n",
       "    }\n",
       "\n",
       "    .dataframe tbody tr th {\n",
       "        vertical-align: top;\n",
       "    }\n",
       "\n",
       "    .dataframe thead th {\n",
       "        text-align: right;\n",
       "    }\n",
       "</style>\n",
       "<table border=\"1\" class=\"dataframe\">\n",
       "  <thead>\n",
       "    <tr style=\"text-align: right;\">\n",
       "      <th></th>\n",
       "      <th>City</th>\n",
       "      <th>Ranking</th>\n",
       "      <th>Price Range</th>\n",
       "      <th>Number of Reviews</th>\n",
       "      <th>ID_TA</th>\n",
       "      <th>sample</th>\n",
       "      <th>Rating</th>\n",
       "      <th>Number_of_Reviews_isNAN</th>\n",
       "      <th>Cuisine Style_isNAN</th>\n",
       "      <th>Price Range_isNAN</th>\n",
       "      <th>...</th>\n",
       "      <th>unique_rest_in_city</th>\n",
       "      <th>Ranking_std</th>\n",
       "      <th>city_sum_reviews</th>\n",
       "      <th>city_count_rest</th>\n",
       "      <th>city_reviews_mean</th>\n",
       "      <th>city_sum_cuisine</th>\n",
       "      <th>days_from_last_review</th>\n",
       "      <th>days_from_last_review_isNAN</th>\n",
       "      <th>diff_time</th>\n",
       "      <th>diff_time_isNAN</th>\n",
       "    </tr>\n",
       "  </thead>\n",
       "  <tbody>\n",
       "    <tr>\n",
       "      <th>0</th>\n",
       "      <td>Paris</td>\n",
       "      <td>12963.0</td>\n",
       "      <td>2.0</td>\n",
       "      <td>4.0</td>\n",
       "      <td>10746918</td>\n",
       "      <td>0</td>\n",
       "      <td>0.0</td>\n",
       "      <td>0</td>\n",
       "      <td>0</td>\n",
       "      <td>0</td>\n",
       "      <td>...</td>\n",
       "      <td>1</td>\n",
       "      <td>1.491224</td>\n",
       "      <td>680827.0</td>\n",
       "      <td>6108</td>\n",
       "      <td>111.464800</td>\n",
       "      <td>13083</td>\n",
       "      <td>184.0</td>\n",
       "      <td>1</td>\n",
       "      <td>86.0</td>\n",
       "      <td>1</td>\n",
       "    </tr>\n",
       "    <tr>\n",
       "      <th>1</th>\n",
       "      <td>Helsinki</td>\n",
       "      <td>106.0</td>\n",
       "      <td>2.0</td>\n",
       "      <td>97.0</td>\n",
       "      <td>6674944</td>\n",
       "      <td>0</td>\n",
       "      <td>0.0</td>\n",
       "      <td>0</td>\n",
       "      <td>0</td>\n",
       "      <td>0</td>\n",
       "      <td>...</td>\n",
       "      <td>1</td>\n",
       "      <td>-1.404530</td>\n",
       "      <td>29511.0</td>\n",
       "      <td>475</td>\n",
       "      <td>62.128421</td>\n",
       "      <td>1248</td>\n",
       "      <td>83.0</td>\n",
       "      <td>0</td>\n",
       "      <td>37.0</td>\n",
       "      <td>0</td>\n",
       "    </tr>\n",
       "    <tr>\n",
       "      <th>2</th>\n",
       "      <td>Edinburgh</td>\n",
       "      <td>810.0</td>\n",
       "      <td>2.0</td>\n",
       "      <td>28.0</td>\n",
       "      <td>13129638</td>\n",
       "      <td>0</td>\n",
       "      <td>0.0</td>\n",
       "      <td>0</td>\n",
       "      <td>0</td>\n",
       "      <td>0</td>\n",
       "      <td>...</td>\n",
       "      <td>0</td>\n",
       "      <td>-0.146058</td>\n",
       "      <td>172103.0</td>\n",
       "      <td>745</td>\n",
       "      <td>231.010738</td>\n",
       "      <td>2782</td>\n",
       "      <td>60.0</td>\n",
       "      <td>0</td>\n",
       "      <td>22.0</td>\n",
       "      <td>0</td>\n",
       "    </tr>\n",
       "    <tr>\n",
       "      <th>3</th>\n",
       "      <td>London</td>\n",
       "      <td>1669.0</td>\n",
       "      <td>3.0</td>\n",
       "      <td>202.0</td>\n",
       "      <td>680417</td>\n",
       "      <td>0</td>\n",
       "      <td>0.0</td>\n",
       "      <td>0</td>\n",
       "      <td>0</td>\n",
       "      <td>0</td>\n",
       "      <td>...</td>\n",
       "      <td>1</td>\n",
       "      <td>-1.376113</td>\n",
       "      <td>933770.0</td>\n",
       "      <td>7193</td>\n",
       "      <td>129.816488</td>\n",
       "      <td>21357</td>\n",
       "      <td>82.0</td>\n",
       "      <td>0</td>\n",
       "      <td>14.0</td>\n",
       "      <td>0</td>\n",
       "    </tr>\n",
       "    <tr>\n",
       "      <th>4</th>\n",
       "      <td>Bratislava</td>\n",
       "      <td>37.0</td>\n",
       "      <td>3.0</td>\n",
       "      <td>162.0</td>\n",
       "      <td>1112354</td>\n",
       "      <td>0</td>\n",
       "      <td>0.0</td>\n",
       "      <td>0</td>\n",
       "      <td>0</td>\n",
       "      <td>0</td>\n",
       "      <td>...</td>\n",
       "      <td>1</td>\n",
       "      <td>-1.673120</td>\n",
       "      <td>16672.0</td>\n",
       "      <td>380</td>\n",
       "      <td>43.873684</td>\n",
       "      <td>847</td>\n",
       "      <td>18.0</td>\n",
       "      <td>0</td>\n",
       "      <td>15.0</td>\n",
       "      <td>0</td>\n",
       "    </tr>\n",
       "  </tbody>\n",
       "</table>\n",
       "<p>5 rows × 23 columns</p>\n",
       "</div>"
      ],
      "text/plain": [
       "         City  Ranking  Price Range  Number of Reviews     ID_TA  sample  \\\n",
       "0       Paris  12963.0          2.0                4.0  10746918       0   \n",
       "1    Helsinki    106.0          2.0               97.0   6674944       0   \n",
       "2   Edinburgh    810.0          2.0               28.0  13129638       0   \n",
       "3      London   1669.0          3.0              202.0    680417       0   \n",
       "4  Bratislava     37.0          3.0              162.0   1112354       0   \n",
       "\n",
       "   Rating  Number_of_Reviews_isNAN  Cuisine Style_isNAN  Price Range_isNAN  \\\n",
       "0     0.0                        0                    0                  0   \n",
       "1     0.0                        0                    0                  0   \n",
       "2     0.0                        0                    0                  0   \n",
       "3     0.0                        0                    0                  0   \n",
       "4     0.0                        0                    0                  0   \n",
       "\n",
       "   ...  unique_rest_in_city  Ranking_std  city_sum_reviews  city_count_rest  \\\n",
       "0  ...                    1     1.491224          680827.0             6108   \n",
       "1  ...                    1    -1.404530           29511.0              475   \n",
       "2  ...                    0    -0.146058          172103.0              745   \n",
       "3  ...                    1    -1.376113          933770.0             7193   \n",
       "4  ...                    1    -1.673120           16672.0              380   \n",
       "\n",
       "   city_reviews_mean  city_sum_cuisine  days_from_last_review  \\\n",
       "0         111.464800             13083                  184.0   \n",
       "1          62.128421              1248                   83.0   \n",
       "2         231.010738              2782                   60.0   \n",
       "3         129.816488             21357                   82.0   \n",
       "4          43.873684               847                   18.0   \n",
       "\n",
       "   days_from_last_review_isNAN  diff_time  diff_time_isNAN  \n",
       "0                            1       86.0                1  \n",
       "1                            0       37.0                0  \n",
       "2                            0       22.0                0  \n",
       "3                            0       14.0                0  \n",
       "4                            0       15.0                0  \n",
       "\n",
       "[5 rows x 23 columns]"
      ]
     },
     "execution_count": 56,
     "metadata": {},
     "output_type": "execute_result"
    }
   ],
   "source": [
    "data.head()"
   ]
  },
  {
   "cell_type": "code",
   "execution_count": 57,
   "metadata": {},
   "outputs": [
    {
     "name": "stdout",
     "output_type": "stream",
     "text": [
      "<class 'pandas.core.frame.DataFrame'>\n",
      "RangeIndex: 50000 entries, 0 to 49999\n",
      "Data columns (total 23 columns):\n",
      " #   Column                       Non-Null Count  Dtype  \n",
      "---  ------                       --------------  -----  \n",
      " 0   City                         50000 non-null  object \n",
      " 1   Ranking                      50000 non-null  float64\n",
      " 2   Price Range                  50000 non-null  float64\n",
      " 3   Number of Reviews            50000 non-null  float64\n",
      " 4   ID_TA                        50000 non-null  int64  \n",
      " 5   sample                       50000 non-null  int64  \n",
      " 6   Rating                       50000 non-null  float64\n",
      " 7   Number_of_Reviews_isNAN      50000 non-null  uint8  \n",
      " 8   Cuisine Style_isNAN          50000 non-null  uint8  \n",
      " 9   Price Range_isNAN            50000 non-null  uint8  \n",
      " 10  Number_of_cuisine            50000 non-null  int64  \n",
      " 11  restaurant_id_count          50000 non-null  int64  \n",
      " 12  count_rest_id_in_city        50000 non-null  float64\n",
      " 13  unique_rest_in_city          50000 non-null  int64  \n",
      " 14  Ranking_std                  50000 non-null  float64\n",
      " 15  city_sum_reviews             50000 non-null  float64\n",
      " 16  city_count_rest              50000 non-null  int64  \n",
      " 17  city_reviews_mean            50000 non-null  float64\n",
      " 18  city_sum_cuisine             50000 non-null  int64  \n",
      " 19  days_from_last_review        50000 non-null  float64\n",
      " 20  days_from_last_review_isNAN  50000 non-null  uint8  \n",
      " 21  diff_time                    50000 non-null  float64\n",
      " 22  diff_time_isNAN              50000 non-null  uint8  \n",
      "dtypes: float64(10), int64(7), object(1), uint8(5)\n",
      "memory usage: 7.1+ MB\n"
     ]
    }
   ],
   "source": [
    "data.info()"
   ]
  },
  {
   "cell_type": "markdown",
   "metadata": {},
   "source": [
    "### One-Hot Encoding"
   ]
  },
  {
   "cell_type": "markdown",
   "metadata": {},
   "source": [
    "Закодируем категориальный признак City с помощью one-hot encoding:"
   ]
  },
  {
   "cell_type": "code",
   "execution_count": 58,
   "metadata": {},
   "outputs": [],
   "source": [
    "data = pd.get_dummies(data, columns=[ 'City',], dummy_na=True)"
   ]
  },
  {
   "cell_type": "code",
   "execution_count": 59,
   "metadata": {},
   "outputs": [
    {
     "data": {
      "text/html": [
       "<div>\n",
       "<style scoped>\n",
       "    .dataframe tbody tr th:only-of-type {\n",
       "        vertical-align: middle;\n",
       "    }\n",
       "\n",
       "    .dataframe tbody tr th {\n",
       "        vertical-align: top;\n",
       "    }\n",
       "\n",
       "    .dataframe thead th {\n",
       "        text-align: right;\n",
       "    }\n",
       "</style>\n",
       "<table border=\"1\" class=\"dataframe\">\n",
       "  <thead>\n",
       "    <tr style=\"text-align: right;\">\n",
       "      <th></th>\n",
       "      <th>Ranking</th>\n",
       "      <th>Price Range</th>\n",
       "      <th>Number of Reviews</th>\n",
       "      <th>ID_TA</th>\n",
       "      <th>sample</th>\n",
       "      <th>Rating</th>\n",
       "      <th>Number_of_Reviews_isNAN</th>\n",
       "      <th>Cuisine Style_isNAN</th>\n",
       "      <th>Price Range_isNAN</th>\n",
       "      <th>Number_of_cuisine</th>\n",
       "      <th>...</th>\n",
       "      <th>City_Oporto</th>\n",
       "      <th>City_Oslo</th>\n",
       "      <th>City_Paris</th>\n",
       "      <th>City_Prague</th>\n",
       "      <th>City_Rome</th>\n",
       "      <th>City_Stockholm</th>\n",
       "      <th>City_Vienna</th>\n",
       "      <th>City_Warsaw</th>\n",
       "      <th>City_Zurich</th>\n",
       "      <th>City_nan</th>\n",
       "    </tr>\n",
       "  </thead>\n",
       "  <tbody>\n",
       "    <tr>\n",
       "      <th>33296</th>\n",
       "      <td>2731.0</td>\n",
       "      <td>1.0</td>\n",
       "      <td>4.0</td>\n",
       "      <td>12302510</td>\n",
       "      <td>1</td>\n",
       "      <td>5.0</td>\n",
       "      <td>0</td>\n",
       "      <td>0</td>\n",
       "      <td>0</td>\n",
       "      <td>3</td>\n",
       "      <td>...</td>\n",
       "      <td>0</td>\n",
       "      <td>0</td>\n",
       "      <td>0</td>\n",
       "      <td>0</td>\n",
       "      <td>0</td>\n",
       "      <td>0</td>\n",
       "      <td>0</td>\n",
       "      <td>0</td>\n",
       "      <td>0</td>\n",
       "      <td>0</td>\n",
       "    </tr>\n",
       "    <tr>\n",
       "      <th>49043</th>\n",
       "      <td>39.0</td>\n",
       "      <td>3.0</td>\n",
       "      <td>235.0</td>\n",
       "      <td>697896</td>\n",
       "      <td>1</td>\n",
       "      <td>4.5</td>\n",
       "      <td>0</td>\n",
       "      <td>0</td>\n",
       "      <td>0</td>\n",
       "      <td>5</td>\n",
       "      <td>...</td>\n",
       "      <td>0</td>\n",
       "      <td>0</td>\n",
       "      <td>0</td>\n",
       "      <td>0</td>\n",
       "      <td>0</td>\n",
       "      <td>0</td>\n",
       "      <td>0</td>\n",
       "      <td>0</td>\n",
       "      <td>1</td>\n",
       "      <td>0</td>\n",
       "    </tr>\n",
       "    <tr>\n",
       "      <th>13223</th>\n",
       "      <td>1617.0</td>\n",
       "      <td>2.0</td>\n",
       "      <td>162.0</td>\n",
       "      <td>2318782</td>\n",
       "      <td>1</td>\n",
       "      <td>4.0</td>\n",
       "      <td>0</td>\n",
       "      <td>0</td>\n",
       "      <td>0</td>\n",
       "      <td>3</td>\n",
       "      <td>...</td>\n",
       "      <td>0</td>\n",
       "      <td>0</td>\n",
       "      <td>0</td>\n",
       "      <td>0</td>\n",
       "      <td>0</td>\n",
       "      <td>0</td>\n",
       "      <td>0</td>\n",
       "      <td>0</td>\n",
       "      <td>0</td>\n",
       "      <td>0</td>\n",
       "    </tr>\n",
       "    <tr>\n",
       "      <th>29593</th>\n",
       "      <td>13694.0</td>\n",
       "      <td>2.0</td>\n",
       "      <td>81.0</td>\n",
       "      <td>734298</td>\n",
       "      <td>1</td>\n",
       "      <td>3.0</td>\n",
       "      <td>0</td>\n",
       "      <td>0</td>\n",
       "      <td>0</td>\n",
       "      <td>2</td>\n",
       "      <td>...</td>\n",
       "      <td>0</td>\n",
       "      <td>0</td>\n",
       "      <td>0</td>\n",
       "      <td>0</td>\n",
       "      <td>0</td>\n",
       "      <td>0</td>\n",
       "      <td>0</td>\n",
       "      <td>0</td>\n",
       "      <td>0</td>\n",
       "      <td>0</td>\n",
       "    </tr>\n",
       "    <tr>\n",
       "      <th>29686</th>\n",
       "      <td>437.0</td>\n",
       "      <td>2.0</td>\n",
       "      <td>84.0</td>\n",
       "      <td>8087299</td>\n",
       "      <td>1</td>\n",
       "      <td>4.5</td>\n",
       "      <td>0</td>\n",
       "      <td>0</td>\n",
       "      <td>0</td>\n",
       "      <td>8</td>\n",
       "      <td>...</td>\n",
       "      <td>0</td>\n",
       "      <td>0</td>\n",
       "      <td>0</td>\n",
       "      <td>0</td>\n",
       "      <td>0</td>\n",
       "      <td>0</td>\n",
       "      <td>0</td>\n",
       "      <td>0</td>\n",
       "      <td>0</td>\n",
       "      <td>0</td>\n",
       "    </tr>\n",
       "  </tbody>\n",
       "</table>\n",
       "<p>5 rows × 54 columns</p>\n",
       "</div>"
      ],
      "text/plain": [
       "       Ranking  Price Range  Number of Reviews     ID_TA  sample  Rating  \\\n",
       "33296   2731.0          1.0                4.0  12302510       1     5.0   \n",
       "49043     39.0          3.0              235.0    697896       1     4.5   \n",
       "13223   1617.0          2.0              162.0   2318782       1     4.0   \n",
       "29593  13694.0          2.0               81.0    734298       1     3.0   \n",
       "29686    437.0          2.0               84.0   8087299       1     4.5   \n",
       "\n",
       "       Number_of_Reviews_isNAN  Cuisine Style_isNAN  Price Range_isNAN  \\\n",
       "33296                        0                    0                  0   \n",
       "49043                        0                    0                  0   \n",
       "13223                        0                    0                  0   \n",
       "29593                        0                    0                  0   \n",
       "29686                        0                    0                  0   \n",
       "\n",
       "       Number_of_cuisine  ...  City_Oporto  City_Oslo  City_Paris  \\\n",
       "33296                  3  ...            0          0           0   \n",
       "49043                  5  ...            0          0           0   \n",
       "13223                  3  ...            0          0           0   \n",
       "29593                  2  ...            0          0           0   \n",
       "29686                  8  ...            0          0           0   \n",
       "\n",
       "       City_Prague  City_Rome  City_Stockholm  City_Vienna  City_Warsaw  \\\n",
       "33296            0          0               0            0            0   \n",
       "49043            0          0               0            0            0   \n",
       "13223            0          0               0            0            0   \n",
       "29593            0          0               0            0            0   \n",
       "29686            0          0               0            0            0   \n",
       "\n",
       "       City_Zurich  City_nan  \n",
       "33296            0         0  \n",
       "49043            1         0  \n",
       "13223            0         0  \n",
       "29593            0         0  \n",
       "29686            0         0  \n",
       "\n",
       "[5 rows x 54 columns]"
      ]
     },
     "execution_count": 59,
     "metadata": {},
     "output_type": "execute_result"
    }
   ],
   "source": [
    "data.sample(5)"
   ]
  },
  {
   "cell_type": "markdown",
   "metadata": {},
   "source": [
    "Теперь наш датасет готов к тому, чтобы применять модель машинного обучения для составления прогноза рейтинга"
   ]
  },
  {
   "cell_type": "code",
   "execution_count": 60,
   "metadata": {},
   "outputs": [
    {
     "name": "stdout",
     "output_type": "stream",
     "text": [
      "<class 'pandas.core.frame.DataFrame'>\n",
      "RangeIndex: 50000 entries, 0 to 49999\n",
      "Data columns (total 54 columns):\n",
      " #   Column                       Non-Null Count  Dtype  \n",
      "---  ------                       --------------  -----  \n",
      " 0   Ranking                      50000 non-null  float64\n",
      " 1   Price Range                  50000 non-null  float64\n",
      " 2   Number of Reviews            50000 non-null  float64\n",
      " 3   ID_TA                        50000 non-null  int64  \n",
      " 4   sample                       50000 non-null  int64  \n",
      " 5   Rating                       50000 non-null  float64\n",
      " 6   Number_of_Reviews_isNAN      50000 non-null  uint8  \n",
      " 7   Cuisine Style_isNAN          50000 non-null  uint8  \n",
      " 8   Price Range_isNAN            50000 non-null  uint8  \n",
      " 9   Number_of_cuisine            50000 non-null  int64  \n",
      " 10  restaurant_id_count          50000 non-null  int64  \n",
      " 11  count_rest_id_in_city        50000 non-null  float64\n",
      " 12  unique_rest_in_city          50000 non-null  int64  \n",
      " 13  Ranking_std                  50000 non-null  float64\n",
      " 14  city_sum_reviews             50000 non-null  float64\n",
      " 15  city_count_rest              50000 non-null  int64  \n",
      " 16  city_reviews_mean            50000 non-null  float64\n",
      " 17  city_sum_cuisine             50000 non-null  int64  \n",
      " 18  days_from_last_review        50000 non-null  float64\n",
      " 19  days_from_last_review_isNAN  50000 non-null  uint8  \n",
      " 20  diff_time                    50000 non-null  float64\n",
      " 21  diff_time_isNAN              50000 non-null  uint8  \n",
      " 22  City_Amsterdam               50000 non-null  uint8  \n",
      " 23  City_Athens                  50000 non-null  uint8  \n",
      " 24  City_Barcelona               50000 non-null  uint8  \n",
      " 25  City_Berlin                  50000 non-null  uint8  \n",
      " 26  City_Bratislava              50000 non-null  uint8  \n",
      " 27  City_Brussels                50000 non-null  uint8  \n",
      " 28  City_Budapest                50000 non-null  uint8  \n",
      " 29  City_Copenhagen              50000 non-null  uint8  \n",
      " 30  City_Dublin                  50000 non-null  uint8  \n",
      " 31  City_Edinburgh               50000 non-null  uint8  \n",
      " 32  City_Geneva                  50000 non-null  uint8  \n",
      " 33  City_Hamburg                 50000 non-null  uint8  \n",
      " 34  City_Helsinki                50000 non-null  uint8  \n",
      " 35  City_Krakow                  50000 non-null  uint8  \n",
      " 36  City_Lisbon                  50000 non-null  uint8  \n",
      " 37  City_Ljubljana               50000 non-null  uint8  \n",
      " 38  City_London                  50000 non-null  uint8  \n",
      " 39  City_Luxembourg              50000 non-null  uint8  \n",
      " 40  City_Lyon                    50000 non-null  uint8  \n",
      " 41  City_Madrid                  50000 non-null  uint8  \n",
      " 42  City_Milan                   50000 non-null  uint8  \n",
      " 43  City_Munich                  50000 non-null  uint8  \n",
      " 44  City_Oporto                  50000 non-null  uint8  \n",
      " 45  City_Oslo                    50000 non-null  uint8  \n",
      " 46  City_Paris                   50000 non-null  uint8  \n",
      " 47  City_Prague                  50000 non-null  uint8  \n",
      " 48  City_Rome                    50000 non-null  uint8  \n",
      " 49  City_Stockholm               50000 non-null  uint8  \n",
      " 50  City_Vienna                  50000 non-null  uint8  \n",
      " 51  City_Warsaw                  50000 non-null  uint8  \n",
      " 52  City_Zurich                  50000 non-null  uint8  \n",
      " 53  City_nan                     50000 non-null  uint8  \n",
      "dtypes: float64(10), int64(7), uint8(37)\n",
      "memory usage: 8.2 MB\n"
     ]
    }
   ],
   "source": [
    "data.info()"
   ]
  },
  {
   "cell_type": "markdown",
   "metadata": {},
   "source": [
    "# Model"
   ]
  },
  {
   "cell_type": "code",
   "execution_count": 85,
   "metadata": {},
   "outputs": [],
   "source": [
    "def fine_rating_pred(prediction):\n",
    "        if prediction < 0.25:\n",
    "            return 0\n",
    "        elif 0.25 < prediction <= 0.75:\n",
    "            return 0.5\n",
    "        elif 0.75 < prediction <= 1.25:\n",
    "            return 1\n",
    "        elif 1.25 <prediction <= 1.75:\n",
    "            return 1.5\n",
    "        elif 1.75 < prediction <= 2.25:\n",
    "            return 2\n",
    "        elif 2.25 < prediction <= 2.75:\n",
    "            return 2.5\n",
    "        elif 2.75 < prediction <= 3.25:\n",
    "            return 3\n",
    "        elif 3.25 < prediction <= 3.75:\n",
    "            return 3.5\n",
    "        elif 3.75 < prediction <= 4.25:\n",
    "            return 4\n",
    "        elif 4.25 < prediction <= 4.75:\n",
    "            return 4.5\n",
    "        else:\n",
    "            return 5\n",
    "        \n",
    "def fine_rating_pred2(prediction):\n",
    "    return round(prediction*2)/2\n",
    "\n",
    "def model_randomforestregressor(data, submit=False):\n",
    "    \n",
    "    # функция принимает на вход датасет data для построения модели\n",
    "    # параметр submit отвечает за то, нужно ли сохранять решение в отдельный csv файл\n",
    "    \n",
    "    # Импортируем необходимые библиотеки:\n",
    "    from sklearn.ensemble import RandomForestRegressor # инструмент для создания и обучения модели\n",
    "    from sklearn import metrics # инструменты для оценки точности модели\n",
    "\n",
    "    # Создаём модель\n",
    "    model = RandomForestRegressor(n_estimators=100, verbose=1, n_jobs=-1, random_state=RANDOM_SEED)\n",
    "\n",
    "    # Теперь выделим тестовую часть\n",
    "    train_data = data.query('sample == 1').drop(['sample'], axis=1)\n",
    "    test_data = data.query('sample == 0').drop(['sample'], axis=1)\n",
    "\n",
    "    y = train_data.Rating.values # наш таргет\n",
    "    X = train_data.drop(['Rating'], axis=1)\n",
    "\n",
    "    # Воспользуемся специальной функцие train_test_split для разбивки тестовых данных\n",
    "    # выделим 20% данных на валидацию (параметр test_size)\n",
    "    X_train, X_test, y_train, y_test = train_test_split(X, y, test_size=0.2, random_state=RANDOM_SEED)\n",
    "    \n",
    "    # Обучаем модель на тестовом наборе данных\n",
    "    model.fit(X_train, y_train)\n",
    "\n",
    "    # Используем обученную модель для предсказания рейтинга ресторанов в тестовой выборке.\n",
    "    # Предсказанные значения записываем в переменную y_pred\n",
    "    y_pred = model.predict(X_test)\n",
    "    \n",
    "    # Сравниваем предсказанные значения (y_pred) с реальными (y_test), и смотрим насколько они в среднем отличаются\n",
    "    # Метрика называется Mean Absolute Error (MAE) и показывает среднее отклонение предсказанных значений от фактических.\n",
    "    print('MAE:', metrics.mean_absolute_error(y_test, y_pred))\n",
    "    \n",
    "    y_pred_fine = pd.Series(y_pred).apply(lambda x: fine_rating_pred(x)).values\n",
    "    print('fine_MAE:', metrics.mean_absolute_error(y_test, y_pred_fine))\n",
    "\n",
    "    y_pred_fine2 = pd.Series(y_pred).apply(lambda x: fine_rating_pred2(x)).values\n",
    "    print('fine_MAE2:', metrics.mean_absolute_error(y_test, y_pred_fine2))\n",
    "    \n",
    "    # в RandomForestRegressor есть возможность вывести самые важные признаки для модели\n",
    "    plt.rcParams['figure.figsize'] = (10,10)\n",
    "    feat_importances = pd.Series(model.feature_importances_, index=X.columns)\n",
    "    feat_importances.nlargest(15).plot(kind='barh')\n",
    "    \n",
    "    # Submission\n",
    "    test_data = test_data.drop(['Rating'], axis=1)\n",
    "\n",
    "    predict_submission = model.predict(test_data)\n",
    "    predict_submission = pd.Series(predict_submission).apply(lambda x: fine_rating_pred(x)).values\n",
    "    \n",
    "    display(pd.Series(predict_submission).value_counts())\n",
    "    \n",
    "    sample_submission['Rating'] = predict_submission\n",
    "    display(sample_submission.head(10))\n",
    "    \n",
    "    if submit:    \n",
    "        sample_submission.to_csv('submission23.csv', index=False)"
   ]
  },
  {
   "cell_type": "code",
   "execution_count": 62,
   "metadata": {},
   "outputs": [],
   "source": [
    "#model_randomforestregressor(data)"
   ]
  },
  {
   "cell_type": "markdown",
   "metadata": {},
   "source": [
    "### Дополнительные признаки из внешних источников: Population, Capital"
   ]
  },
  {
   "cell_type": "markdown",
   "metadata": {},
   "source": [
    "Из внешних источников добавим данные по количеству населения в городе. Рассчитаем также еще один дополнительный признак - сколько людей в городе приходится на один ресторан."
   ]
  },
  {
   "cell_type": "code",
   "execution_count": 86,
   "metadata": {},
   "outputs": [],
   "source": [
    "data2 = data.copy()\n",
    "\n",
    "city_population = {\n",
    "    'London': 8173900,\n",
    "    'Paris': 2240621,\n",
    "    'Madrid': 3155360,\n",
    "    'Barcelona': 1593075,\n",
    "    'Berlin': 3326002,\n",
    "    'Milan': 1331586,\n",
    "    'Rome': 2870493,\n",
    "    'Prague': 1272690,\n",
    "    'Lisbon': 547733,\n",
    "    'Vienna': 1765649,\n",
    "    'Amsterdam': 825080,\n",
    "    'Brussels': 144784,\n",
    "    'Hamburg': 1718187,\n",
    "    'Munich': 1364920,\n",
    "    'Lyon': 496343,\n",
    "    'Stockholm': 1981263,\n",
    "    'Budapest': 1744665,\n",
    "    'Warsaw': 1720398,\n",
    "    'Dublin': 506211 ,\n",
    "    'Copenhagen': 1246611,\n",
    "    'Athens': 3168846,\n",
    "    'Edinburgh': 476100,\n",
    "    'Zurich': 402275,\n",
    "    'Oporto': 221800,\n",
    "    'Geneva': 196150,\n",
    "    'Krakow': 756183,\n",
    "    'Oslo': 673469,\n",
    "    'Helsinki': 574579,\n",
    "    'Bratislava': 413192,\n",
    "    'Luxembourg': 576249,\n",
    "    'Ljubljana': 277554\n",
    "}\n",
    "\n",
    "capital = {\n",
    "    'London': 1,\n",
    "    'Paris': 1,\n",
    "    'Madrid': 1,\n",
    "    'Barcelona': 0,\n",
    "    'Berlin': 1,\n",
    "    'Milan': 0,\n",
    "    'Rome': 1,\n",
    "    'Prague': 1,\n",
    "    'Lisbon': 1,\n",
    "    'Vienna': 1,\n",
    "    'Amsterdam': 1,\n",
    "    'Brussels': 1,\n",
    "    'Hamburg': 0,\n",
    "    'Munich': 0,\n",
    "    'Lyon': 0,\n",
    "    'Stockholm': 1,\n",
    "    'Budapest': 1,\n",
    "    'Warsaw': 1,\n",
    "    'Dublin': 1,\n",
    "    'Copenhagen': 1,\n",
    "    'Athens': 1,\n",
    "    'Edinburgh': 1,\n",
    "    'Zurich': 1,\n",
    "    'Oporto': 0,\n",
    "    'Geneva': 1,\n",
    "    'Krakow': 0,\n",
    "    'Oslo': 1,\n",
    "    'Helsinki': 1,\n",
    "    'Bratislava': 1,\n",
    "    'Luxembourg': 1,\n",
    "    'Ljubljana': 1\n",
    "}\n",
    "\n",
    "# вот нам и пригодилась копия исходного датасета, чтобы обращаться к значению City\n",
    "\n",
    "data2['population'] = data1['City'].map(city_population)\n",
    "\n",
    "data2['capital'] = data1['City'].map(capital)\n",
    "    \n",
    "data2['people_per_rest'] = data2['population'] / data2['city_count_rest']\n",
    "\n",
    "# стандартизация ранга ресторана относительно количества отзывов в городе\n",
    "\n",
    "city_reviews_sum = data1.groupby('City')['Number of Reviews'].sum()\n",
    "\n",
    "data2['rank_per_city_reviews_sum'] = data['Ranking']/ data1['City'].map(city_reviews_sum)"
   ]
  },
  {
   "cell_type": "code",
   "execution_count": 87,
   "metadata": {},
   "outputs": [
    {
     "name": "stderr",
     "output_type": "stream",
     "text": [
      "[Parallel(n_jobs=-1)]: Using backend ThreadingBackend with 4 concurrent workers.\n",
      "[Parallel(n_jobs=-1)]: Done  42 tasks      | elapsed:    8.9s\n",
      "[Parallel(n_jobs=-1)]: Done 100 out of 100 | elapsed:   20.8s finished\n",
      "[Parallel(n_jobs=4)]: Using backend ThreadingBackend with 4 concurrent workers.\n",
      "[Parallel(n_jobs=4)]: Done  42 tasks      | elapsed:    0.0s\n",
      "[Parallel(n_jobs=4)]: Done 100 out of 100 | elapsed:    0.0s finished\n"
     ]
    },
    {
     "name": "stdout",
     "output_type": "stream",
     "text": [
      "MAE: 0.19547187500000002\n",
      "fine_MAE: 0.16275\n",
      "fine_MAE2: 0.1625\n"
     ]
    },
    {
     "name": "stderr",
     "output_type": "stream",
     "text": [
      "[Parallel(n_jobs=4)]: Using backend ThreadingBackend with 4 concurrent workers.\n",
      "[Parallel(n_jobs=4)]: Done  42 tasks      | elapsed:    0.0s\n",
      "[Parallel(n_jobs=4)]: Done 100 out of 100 | elapsed:    0.1s finished\n"
     ]
    },
    {
     "data": {
      "text/plain": [
       "4.0    3756\n",
       "4.5    2749\n",
       "3.5    1697\n",
       "3.0     734\n",
       "5.0     722\n",
       "2.5     195\n",
       "2.0      75\n",
       "1.0      40\n",
       "1.5      32\n",
       "dtype: int64"
      ]
     },
     "metadata": {},
     "output_type": "display_data"
    },
    {
     "data": {
      "text/html": [
       "<div>\n",
       "<style scoped>\n",
       "    .dataframe tbody tr th:only-of-type {\n",
       "        vertical-align: middle;\n",
       "    }\n",
       "\n",
       "    .dataframe tbody tr th {\n",
       "        vertical-align: top;\n",
       "    }\n",
       "\n",
       "    .dataframe thead th {\n",
       "        text-align: right;\n",
       "    }\n",
       "</style>\n",
       "<table border=\"1\" class=\"dataframe\">\n",
       "  <thead>\n",
       "    <tr style=\"text-align: right;\">\n",
       "      <th></th>\n",
       "      <th>Restaurant_id</th>\n",
       "      <th>Rating</th>\n",
       "    </tr>\n",
       "  </thead>\n",
       "  <tbody>\n",
       "    <tr>\n",
       "      <th>0</th>\n",
       "      <td>id_0</td>\n",
       "      <td>3.0</td>\n",
       "    </tr>\n",
       "    <tr>\n",
       "      <th>1</th>\n",
       "      <td>id_1</td>\n",
       "      <td>4.0</td>\n",
       "    </tr>\n",
       "    <tr>\n",
       "      <th>2</th>\n",
       "      <td>id_2</td>\n",
       "      <td>4.5</td>\n",
       "    </tr>\n",
       "    <tr>\n",
       "      <th>3</th>\n",
       "      <td>id_3</td>\n",
       "      <td>4.5</td>\n",
       "    </tr>\n",
       "    <tr>\n",
       "      <th>4</th>\n",
       "      <td>id_4</td>\n",
       "      <td>4.5</td>\n",
       "    </tr>\n",
       "    <tr>\n",
       "      <th>5</th>\n",
       "      <td>id_5</td>\n",
       "      <td>4.5</td>\n",
       "    </tr>\n",
       "    <tr>\n",
       "      <th>6</th>\n",
       "      <td>id_6</td>\n",
       "      <td>1.5</td>\n",
       "    </tr>\n",
       "    <tr>\n",
       "      <th>7</th>\n",
       "      <td>id_7</td>\n",
       "      <td>3.0</td>\n",
       "    </tr>\n",
       "    <tr>\n",
       "      <th>8</th>\n",
       "      <td>id_8</td>\n",
       "      <td>4.0</td>\n",
       "    </tr>\n",
       "    <tr>\n",
       "      <th>9</th>\n",
       "      <td>id_9</td>\n",
       "      <td>4.5</td>\n",
       "    </tr>\n",
       "  </tbody>\n",
       "</table>\n",
       "</div>"
      ],
      "text/plain": [
       "  Restaurant_id  Rating\n",
       "0          id_0     3.0\n",
       "1          id_1     4.0\n",
       "2          id_2     4.5\n",
       "3          id_3     4.5\n",
       "4          id_4     4.5\n",
       "5          id_5     4.5\n",
       "6          id_6     1.5\n",
       "7          id_7     3.0\n",
       "8          id_8     4.0\n",
       "9          id_9     4.5"
      ]
     },
     "metadata": {},
     "output_type": "display_data"
    },
    {
     "data": {
      "image/png": "[encoded data removed]",
      "text/plain": [
       "<Figure size 720x720 with 1 Axes>"
      ]
     },
     "metadata": {
      "needs_background": "light"
     },
     "output_type": "display_data"
    }
   ],
   "source": [
    "model_randomforestregressor(data2, submit=True)"
   ]
  },
  {
   "cell_type": "code",
   "execution_count": 65,
   "metadata": {},
   "outputs": [
    {
     "name": "stdout",
     "output_type": "stream",
     "text": [
      "<class 'pandas.core.frame.DataFrame'>\n",
      "RangeIndex: 50000 entries, 0 to 49999\n",
      "Data columns (total 58 columns):\n",
      " #   Column                       Non-Null Count  Dtype  \n",
      "---  ------                       --------------  -----  \n",
      " 0   Ranking                      50000 non-null  float64\n",
      " 1   Price Range                  50000 non-null  float64\n",
      " 2   Number of Reviews            50000 non-null  float64\n",
      " 3   ID_TA                        50000 non-null  int64  \n",
      " 4   sample                       50000 non-null  int64  \n",
      " 5   Rating                       50000 non-null  float64\n",
      " 6   Number_of_Reviews_isNAN      50000 non-null  uint8  \n",
      " 7   Cuisine Style_isNAN          50000 non-null  uint8  \n",
      " 8   Price Range_isNAN            50000 non-null  uint8  \n",
      " 9   Number_of_cuisine            50000 non-null  int64  \n",
      " 10  restaurant_id_count          50000 non-null  int64  \n",
      " 11  count_rest_id_in_city        50000 non-null  float64\n",
      " 12  unique_rest_in_city          50000 non-null  int64  \n",
      " 13  Ranking_std                  50000 non-null  float64\n",
      " 14  city_sum_reviews             50000 non-null  float64\n",
      " 15  city_count_rest              50000 non-null  int64  \n",
      " 16  city_reviews_mean            50000 non-null  float64\n",
      " 17  city_sum_cuisine             50000 non-null  int64  \n",
      " 18  days_from_last_review        50000 non-null  float64\n",
      " 19  days_from_last_review_isNAN  50000 non-null  uint8  \n",
      " 20  diff_time                    50000 non-null  float64\n",
      " 21  diff_time_isNAN              50000 non-null  uint8  \n",
      " 22  City_Amsterdam               50000 non-null  uint8  \n",
      " 23  City_Athens                  50000 non-null  uint8  \n",
      " 24  City_Barcelona               50000 non-null  uint8  \n",
      " 25  City_Berlin                  50000 non-null  uint8  \n",
      " 26  City_Bratislava              50000 non-null  uint8  \n",
      " 27  City_Brussels                50000 non-null  uint8  \n",
      " 28  City_Budapest                50000 non-null  uint8  \n",
      " 29  City_Copenhagen              50000 non-null  uint8  \n",
      " 30  City_Dublin                  50000 non-null  uint8  \n",
      " 31  City_Edinburgh               50000 non-null  uint8  \n",
      " 32  City_Geneva                  50000 non-null  uint8  \n",
      " 33  City_Hamburg                 50000 non-null  uint8  \n",
      " 34  City_Helsinki                50000 non-null  uint8  \n",
      " 35  City_Krakow                  50000 non-null  uint8  \n",
      " 36  City_Lisbon                  50000 non-null  uint8  \n",
      " 37  City_Ljubljana               50000 non-null  uint8  \n",
      " 38  City_London                  50000 non-null  uint8  \n",
      " 39  City_Luxembourg              50000 non-null  uint8  \n",
      " 40  City_Lyon                    50000 non-null  uint8  \n",
      " 41  City_Madrid                  50000 non-null  uint8  \n",
      " 42  City_Milan                   50000 non-null  uint8  \n",
      " 43  City_Munich                  50000 non-null  uint8  \n",
      " 44  City_Oporto                  50000 non-null  uint8  \n",
      " 45  City_Oslo                    50000 non-null  uint8  \n",
      " 46  City_Paris                   50000 non-null  uint8  \n",
      " 47  City_Prague                  50000 non-null  uint8  \n",
      " 48  City_Rome                    50000 non-null  uint8  \n",
      " 49  City_Stockholm               50000 non-null  uint8  \n",
      " 50  City_Vienna                  50000 non-null  uint8  \n",
      " 51  City_Warsaw                  50000 non-null  uint8  \n",
      " 52  City_Zurich                  50000 non-null  uint8  \n",
      " 53  City_nan                     50000 non-null  uint8  \n",
      " 54  population                   50000 non-null  int64  \n",
      " 55  capital                      50000 non-null  int64  \n",
      " 56  people_per_rest              50000 non-null  float64\n",
      " 57  rank_per_city_reviews_sum    50000 non-null  float64\n",
      "dtypes: float64(12), int64(9), uint8(37)\n",
      "memory usage: 9.8 MB\n"
     ]
    }
   ],
   "source": [
    "data2.info()"
   ]
  },
  {
   "cell_type": "code",
   "execution_count": null,
   "metadata": {},
   "outputs": [],
   "source": []
  }
 ],
 "metadata": {
  "kernelspec": {
   "display_name": "Python 3",
   "language": "python",
   "name": "python3"
  },
  "language_info": {
   "codemirror_mode": {
    "name": "ipython",
    "version": 3
   },
   "file_extension": ".py",
   "mimetype": "text/x-python",
   "name": "python",
   "nbconvert_exporter": "python",
   "pygments_lexer": "ipython3",
   "version": "3.7.6"
  }
 },
 "nbformat": 4,
 "nbformat_minor": 4
}
